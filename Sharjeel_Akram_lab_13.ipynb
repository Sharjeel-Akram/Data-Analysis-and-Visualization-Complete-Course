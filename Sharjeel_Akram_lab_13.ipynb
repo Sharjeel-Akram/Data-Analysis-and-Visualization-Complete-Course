{
  "cells": [
    {
      "cell_type": "markdown",
      "metadata": {
        "id": "4ZjW8XIBW4EG"
      },
      "source": [
        "# **Santander Bank Customer Satisfaction - Classification**\n"
      ]
    },
    {
      "cell_type": "code",
      "execution_count": null,
      "metadata": {
        "colab": {
          "base_uri": "https://localhost:8080/"
        },
        "id": "cHOkG1FhGi-7",
        "outputId": "9fdb1e4b-10c7-4066-f614-8fbfe27cfa33"
      },
      "outputs": [
        {
          "output_type": "stream",
          "name": "stdout",
          "text": [
            "Looking in indexes: https://pypi.org/simple, https://us-python.pkg.dev/colab-wheels/public/simple/\n",
            "Collecting feature_engine\n",
            "  Downloading feature_engine-1.3.0-py2.py3-none-any.whl (260 kB)\n",
            "\u001b[K     |████████████████████████████████| 260 kB 14.9 MB/s \n",
            "\u001b[?25hRequirement already satisfied: numpy>=1.18.2 in /usr/local/lib/python3.7/dist-packages (from feature_engine) (1.21.6)\n",
            "Requirement already satisfied: scipy>=1.4.1 in /usr/local/lib/python3.7/dist-packages (from feature_engine) (1.4.1)\n",
            "Requirement already satisfied: pandas>=1.0.3 in /usr/local/lib/python3.7/dist-packages (from feature_engine) (1.3.5)\n",
            "Collecting statsmodels>=0.11.1\n",
            "  Downloading statsmodels-0.13.2-cp37-cp37m-manylinux_2_17_x86_64.manylinux2014_x86_64.whl (9.8 MB)\n",
            "\u001b[K     |████████████████████████████████| 9.8 MB 42.6 MB/s \n",
            "\u001b[?25hRequirement already satisfied: scikit-learn>=1.0.0 in /usr/local/lib/python3.7/dist-packages (from feature_engine) (1.0.2)\n",
            "Requirement already satisfied: python-dateutil>=2.7.3 in /usr/local/lib/python3.7/dist-packages (from pandas>=1.0.3->feature_engine) (2.8.2)\n",
            "Requirement already satisfied: pytz>=2017.3 in /usr/local/lib/python3.7/dist-packages (from pandas>=1.0.3->feature_engine) (2022.1)\n",
            "Requirement already satisfied: six>=1.5 in /usr/local/lib/python3.7/dist-packages (from python-dateutil>=2.7.3->pandas>=1.0.3->feature_engine) (1.15.0)\n",
            "Requirement already satisfied: threadpoolctl>=2.0.0 in /usr/local/lib/python3.7/dist-packages (from scikit-learn>=1.0.0->feature_engine) (3.1.0)\n",
            "Requirement already satisfied: joblib>=0.11 in /usr/local/lib/python3.7/dist-packages (from scikit-learn>=1.0.0->feature_engine) (1.1.0)\n",
            "Requirement already satisfied: packaging>=21.3 in /usr/local/lib/python3.7/dist-packages (from statsmodels>=0.11.1->feature_engine) (21.3)\n",
            "Requirement already satisfied: patsy>=0.5.2 in /usr/local/lib/python3.7/dist-packages (from statsmodels>=0.11.1->feature_engine) (0.5.2)\n",
            "Requirement already satisfied: pyparsing!=3.0.5,>=2.0.2 in /usr/local/lib/python3.7/dist-packages (from packaging>=21.3->statsmodels>=0.11.1->feature_engine) (3.0.9)\n",
            "Installing collected packages: statsmodels, feature-engine\n",
            "  Attempting uninstall: statsmodels\n",
            "    Found existing installation: statsmodels 0.10.2\n",
            "    Uninstalling statsmodels-0.10.2:\n",
            "      Successfully uninstalled statsmodels-0.10.2\n",
            "Successfully installed feature-engine-1.3.0 statsmodels-0.13.2\n"
          ]
        }
      ],
      "source": [
        "!pip install feature_engine"
      ]
    },
    {
      "cell_type": "code",
      "execution_count": null,
      "metadata": {
        "id": "LnsKbpM937UZ"
      },
      "outputs": [],
      "source": [
        "# Import the libraries, please only use the libraries imported below\n",
        "import pandas as pd\n",
        "import matplotlib.pyplot as plt\n",
        "import seaborn as sns\n",
        "import numpy as np\n",
        "\n",
        "from sklearn.linear_model import LogisticRegression\n",
        "from sklearn.neighbors import KNeighborsClassifier\n",
        "from sklearn.model_selection import train_test_split\n",
        "from sklearn.metrics import accuracy_score, confusion_matrix, recall_score,classification_report, roc_auc_score\n",
        "from sklearn.metrics import roc_curve\n",
        "from sklearn.ensemble import RandomForestClassifier\n",
        "from sklearn.model_selection import GridSearchCV, RandomizedSearchCV\n",
        "from xgboost import XGBClassifier\n",
        "\n",
        "from imblearn.over_sampling import SMOTE\n",
        "import pickle\n",
        "import joblib\n",
        "from sklearn.inspection import permutation_importance\n",
        "from feature_engine.selection import DropDuplicateFeatures, DropConstantFeatures\n",
        "import warnings\n",
        "warnings.filterwarnings('ignore')"
      ]
    },
    {
      "cell_type": "markdown",
      "metadata": {
        "id": "v1kPmcY-ddJo"
      },
      "source": [
        "# **1. Download the Dataset from Shared Google Drive ID's**\n",
        "1.1 Google Drive ID for Train Data is given below and execute the following command to download the data from Google Drive\n",
        "\n",
        "\n",
        "```\n",
        "!gdown 1_NPqplpJLHl28cbAhuL2k6jJObJF9wwU\n",
        "```\n",
        "1.2 To download Test Data execute the following command\n",
        "\n",
        "\n",
        "```\n",
        "!gdown 1LdvVrsrWLNO-UAJf0Z9S-SxnV1nozcsu\n",
        "```\n",
        "\n",
        "**Important:** Please note that **!** represents the linux commands being executed on the drive. Don't use **!** while using at your system. "
      ]
    },
    {
      "cell_type": "code",
      "execution_count": null,
      "metadata": {
        "colab": {
          "base_uri": "https://localhost:8080/"
        },
        "id": "CVrmE9QAE6iq",
        "outputId": "5c6a9a9a-48ab-4e05-9821-603a5e07b8e9"
      },
      "outputs": [
        {
          "output_type": "stream",
          "name": "stdout",
          "text": [
            "Downloading...\n",
            "From: https://drive.google.com/uc?id=1_NPqplpJLHl28cbAhuL2k6jJObJF9wwU\n",
            "To: /content/train.csv\n",
            "100% 59.4M/59.4M [00:00<00:00, 280MB/s]\n"
          ]
        }
      ],
      "source": [
        "!gdown 1_NPqplpJLHl28cbAhuL2k6jJObJF9wwU"
      ]
    },
    {
      "cell_type": "code",
      "execution_count": null,
      "metadata": {
        "colab": {
          "base_uri": "https://localhost:8080/"
        },
        "id": "kNkHxHSSFEOU",
        "outputId": "9660f51d-bdf1-4c76-8537-b8fa6bafc203"
      },
      "outputs": [
        {
          "output_type": "stream",
          "name": "stdout",
          "text": [
            "Downloading...\n",
            "From: https://drive.google.com/uc?id=1LdvVrsrWLNO-UAJf0Z9S-SxnV1nozcsu\n",
            "To: /content/test.csv\n",
            "\r  0% 0.00/59.1M [00:00<?, ?B/s]\r 42% 24.6M/59.1M [00:00<00:00, 245MB/s]\r100% 59.1M/59.1M [00:00<00:00, 322MB/s]\n"
          ]
        }
      ],
      "source": [
        "!gdown 1LdvVrsrWLNO-UAJf0Z9S-SxnV1nozcsu"
      ]
    },
    {
      "cell_type": "markdown",
      "metadata": {
        "id": "L0USyvYkfOrL"
      },
      "source": [
        "# **2. Load and Preprocess the Data**"
      ]
    },
    {
      "cell_type": "markdown",
      "metadata": {
        "id": "19vB4wr51kVl"
      },
      "source": [
        "Load the train and test dataset and Preprocess train data with the following objectives.\n",
        "\n",
        "> 1. have zero variance\n",
        "\n",
        "> 2. duplicated column\n",
        "\n",
        "> 3. very sparse features\n",
        "\n",
        "\n",
        "\n",
        "\n"
      ]
    },
    {
      "cell_type": "code",
      "execution_count": null,
      "metadata": {
        "colab": {
          "base_uri": "https://localhost:8080/",
          "height": 205
        },
        "id": "xQiEdLB1bk9y",
        "outputId": "98039bb4-2b1b-4ec4-c34a-774416f1d93c"
      },
      "outputs": [
        {
          "output_type": "execute_result",
          "data": {
            "text/plain": [
              "   ID  var3  var15  imp_ent_var16_ult1  imp_op_var39_comer_ult1  \\\n",
              "0   1     2     23                 0.0                      0.0   \n",
              "1   3     2     34                 0.0                      0.0   \n",
              "\n",
              "   imp_op_var39_comer_ult3  imp_op_var40_comer_ult1  imp_op_var40_comer_ult3  \\\n",
              "0                      0.0                      0.0                      0.0   \n",
              "1                      0.0                      0.0                      0.0   \n",
              "\n",
              "   imp_op_var40_efect_ult1  imp_op_var40_efect_ult3  ...  \\\n",
              "0                      0.0                      0.0  ...   \n",
              "1                      0.0                      0.0  ...   \n",
              "\n",
              "   saldo_medio_var33_hace2  saldo_medio_var33_hace3  saldo_medio_var33_ult1  \\\n",
              "0                      0.0                      0.0                     0.0   \n",
              "1                      0.0                      0.0                     0.0   \n",
              "\n",
              "   saldo_medio_var33_ult3  saldo_medio_var44_hace2  saldo_medio_var44_hace3  \\\n",
              "0                     0.0                      0.0                      0.0   \n",
              "1                     0.0                      0.0                      0.0   \n",
              "\n",
              "   saldo_medio_var44_ult1  saldo_medio_var44_ult3     var38  TARGET  \n",
              "0                     0.0                     0.0  39205.17       0  \n",
              "1                     0.0                     0.0  49278.03       0  \n",
              "\n",
              "[2 rows x 371 columns]"
            ],
            "text/html": [
              "\n",
              "  <div id=\"df-20c4f74d-c5cb-4b6b-a87c-2d969101db13\">\n",
              "    <div class=\"colab-df-container\">\n",
              "      <div>\n",
              "<style scoped>\n",
              "    .dataframe tbody tr th:only-of-type {\n",
              "        vertical-align: middle;\n",
              "    }\n",
              "\n",
              "    .dataframe tbody tr th {\n",
              "        vertical-align: top;\n",
              "    }\n",
              "\n",
              "    .dataframe thead th {\n",
              "        text-align: right;\n",
              "    }\n",
              "</style>\n",
              "<table border=\"1\" class=\"dataframe\">\n",
              "  <thead>\n",
              "    <tr style=\"text-align: right;\">\n",
              "      <th></th>\n",
              "      <th>ID</th>\n",
              "      <th>var3</th>\n",
              "      <th>var15</th>\n",
              "      <th>imp_ent_var16_ult1</th>\n",
              "      <th>imp_op_var39_comer_ult1</th>\n",
              "      <th>imp_op_var39_comer_ult3</th>\n",
              "      <th>imp_op_var40_comer_ult1</th>\n",
              "      <th>imp_op_var40_comer_ult3</th>\n",
              "      <th>imp_op_var40_efect_ult1</th>\n",
              "      <th>imp_op_var40_efect_ult3</th>\n",
              "      <th>...</th>\n",
              "      <th>saldo_medio_var33_hace2</th>\n",
              "      <th>saldo_medio_var33_hace3</th>\n",
              "      <th>saldo_medio_var33_ult1</th>\n",
              "      <th>saldo_medio_var33_ult3</th>\n",
              "      <th>saldo_medio_var44_hace2</th>\n",
              "      <th>saldo_medio_var44_hace3</th>\n",
              "      <th>saldo_medio_var44_ult1</th>\n",
              "      <th>saldo_medio_var44_ult3</th>\n",
              "      <th>var38</th>\n",
              "      <th>TARGET</th>\n",
              "    </tr>\n",
              "  </thead>\n",
              "  <tbody>\n",
              "    <tr>\n",
              "      <th>0</th>\n",
              "      <td>1</td>\n",
              "      <td>2</td>\n",
              "      <td>23</td>\n",
              "      <td>0.0</td>\n",
              "      <td>0.0</td>\n",
              "      <td>0.0</td>\n",
              "      <td>0.0</td>\n",
              "      <td>0.0</td>\n",
              "      <td>0.0</td>\n",
              "      <td>0.0</td>\n",
              "      <td>...</td>\n",
              "      <td>0.0</td>\n",
              "      <td>0.0</td>\n",
              "      <td>0.0</td>\n",
              "      <td>0.0</td>\n",
              "      <td>0.0</td>\n",
              "      <td>0.0</td>\n",
              "      <td>0.0</td>\n",
              "      <td>0.0</td>\n",
              "      <td>39205.17</td>\n",
              "      <td>0</td>\n",
              "    </tr>\n",
              "    <tr>\n",
              "      <th>1</th>\n",
              "      <td>3</td>\n",
              "      <td>2</td>\n",
              "      <td>34</td>\n",
              "      <td>0.0</td>\n",
              "      <td>0.0</td>\n",
              "      <td>0.0</td>\n",
              "      <td>0.0</td>\n",
              "      <td>0.0</td>\n",
              "      <td>0.0</td>\n",
              "      <td>0.0</td>\n",
              "      <td>...</td>\n",
              "      <td>0.0</td>\n",
              "      <td>0.0</td>\n",
              "      <td>0.0</td>\n",
              "      <td>0.0</td>\n",
              "      <td>0.0</td>\n",
              "      <td>0.0</td>\n",
              "      <td>0.0</td>\n",
              "      <td>0.0</td>\n",
              "      <td>49278.03</td>\n",
              "      <td>0</td>\n",
              "    </tr>\n",
              "  </tbody>\n",
              "</table>\n",
              "<p>2 rows × 371 columns</p>\n",
              "</div>\n",
              "      <button class=\"colab-df-convert\" onclick=\"convertToInteractive('df-20c4f74d-c5cb-4b6b-a87c-2d969101db13')\"\n",
              "              title=\"Convert this dataframe to an interactive table.\"\n",
              "              style=\"display:none;\">\n",
              "        \n",
              "  <svg xmlns=\"http://www.w3.org/2000/svg\" height=\"24px\"viewBox=\"0 0 24 24\"\n",
              "       width=\"24px\">\n",
              "    <path d=\"M0 0h24v24H0V0z\" fill=\"none\"/>\n",
              "    <path d=\"M18.56 5.44l.94 2.06.94-2.06 2.06-.94-2.06-.94-.94-2.06-.94 2.06-2.06.94zm-11 1L8.5 8.5l.94-2.06 2.06-.94-2.06-.94L8.5 2.5l-.94 2.06-2.06.94zm10 10l.94 2.06.94-2.06 2.06-.94-2.06-.94-.94-2.06-.94 2.06-2.06.94z\"/><path d=\"M17.41 7.96l-1.37-1.37c-.4-.4-.92-.59-1.43-.59-.52 0-1.04.2-1.43.59L10.3 9.45l-7.72 7.72c-.78.78-.78 2.05 0 2.83L4 21.41c.39.39.9.59 1.41.59.51 0 1.02-.2 1.41-.59l7.78-7.78 2.81-2.81c.8-.78.8-2.07 0-2.86zM5.41 20L4 18.59l7.72-7.72 1.47 1.35L5.41 20z\"/>\n",
              "  </svg>\n",
              "      </button>\n",
              "      \n",
              "  <style>\n",
              "    .colab-df-container {\n",
              "      display:flex;\n",
              "      flex-wrap:wrap;\n",
              "      gap: 12px;\n",
              "    }\n",
              "\n",
              "    .colab-df-convert {\n",
              "      background-color: #E8F0FE;\n",
              "      border: none;\n",
              "      border-radius: 50%;\n",
              "      cursor: pointer;\n",
              "      display: none;\n",
              "      fill: #1967D2;\n",
              "      height: 32px;\n",
              "      padding: 0 0 0 0;\n",
              "      width: 32px;\n",
              "    }\n",
              "\n",
              "    .colab-df-convert:hover {\n",
              "      background-color: #E2EBFA;\n",
              "      box-shadow: 0px 1px 2px rgba(60, 64, 67, 0.3), 0px 1px 3px 1px rgba(60, 64, 67, 0.15);\n",
              "      fill: #174EA6;\n",
              "    }\n",
              "\n",
              "    [theme=dark] .colab-df-convert {\n",
              "      background-color: #3B4455;\n",
              "      fill: #D2E3FC;\n",
              "    }\n",
              "\n",
              "    [theme=dark] .colab-df-convert:hover {\n",
              "      background-color: #434B5C;\n",
              "      box-shadow: 0px 1px 3px 1px rgba(0, 0, 0, 0.15);\n",
              "      filter: drop-shadow(0px 1px 2px rgba(0, 0, 0, 0.3));\n",
              "      fill: #FFFFFF;\n",
              "    }\n",
              "  </style>\n",
              "\n",
              "      <script>\n",
              "        const buttonEl =\n",
              "          document.querySelector('#df-20c4f74d-c5cb-4b6b-a87c-2d969101db13 button.colab-df-convert');\n",
              "        buttonEl.style.display =\n",
              "          google.colab.kernel.accessAllowed ? 'block' : 'none';\n",
              "\n",
              "        async function convertToInteractive(key) {\n",
              "          const element = document.querySelector('#df-20c4f74d-c5cb-4b6b-a87c-2d969101db13');\n",
              "          const dataTable =\n",
              "            await google.colab.kernel.invokeFunction('convertToInteractive',\n",
              "                                                     [key], {});\n",
              "          if (!dataTable) return;\n",
              "\n",
              "          const docLinkHtml = 'Like what you see? Visit the ' +\n",
              "            '<a target=\"_blank\" href=https://colab.research.google.com/notebooks/data_table.ipynb>data table notebook</a>'\n",
              "            + ' to learn more about interactive tables.';\n",
              "          element.innerHTML = '';\n",
              "          dataTable['output_type'] = 'display_data';\n",
              "          await google.colab.output.renderOutput(dataTable, element);\n",
              "          const docLink = document.createElement('div');\n",
              "          docLink.innerHTML = docLinkHtml;\n",
              "          element.appendChild(docLink);\n",
              "        }\n",
              "      </script>\n",
              "    </div>\n",
              "  </div>\n",
              "  "
            ]
          },
          "metadata": {},
          "execution_count": 5
        }
      ],
      "source": [
        "df = pd.read_csv('train.csv')\n",
        "df.head(2)"
      ]
    },
    {
      "cell_type": "code",
      "execution_count": null,
      "metadata": {
        "id": "hE7x0ZOfO-Ur"
      },
      "outputs": [],
      "source": [
        "from sklearn.preprocessing import StandardScaler\n",
        "scaler = StandardScaler()\n",
        "x = df.drop('TARGET', axis = 1)\n",
        "x = scaler.fit_transform(x)\n",
        "y = df['TARGET']"
      ]
    },
    {
      "cell_type": "code",
      "execution_count": null,
      "metadata": {
        "id": "Vy2s6l6AO3zp"
      },
      "outputs": [],
      "source": [
        "const = DropConstantFeatures(tol=0.998)\n",
        "x = const.fit_transform(x)\n",
        "\n",
        "Dup = DropDuplicateFeatures()\n",
        "x = Dup.fit_transform(x)\n",
        "\n",
        "q_const = DropConstantFeatures(tol=0.99)\n",
        "x = q_const.fit_transform(x)"
      ]
    },
    {
      "cell_type": "code",
      "execution_count": null,
      "metadata": {
        "colab": {
          "base_uri": "https://localhost:8080/"
        },
        "id": "pjLS1T5nPSnh",
        "outputId": "eab54df8-49b0-4c7c-c30e-2d46265935b2"
      },
      "outputs": [
        {
          "output_type": "execute_result",
          "data": {
            "text/plain": [
              "(76020, 143)"
            ]
          },
          "metadata": {},
          "execution_count": 8
        }
      ],
      "source": [
        "x.shape"
      ]
    },
    {
      "cell_type": "code",
      "execution_count": null,
      "metadata": {
        "id": "VEgKnGVRHLSk"
      },
      "outputs": [],
      "source": [
        "from sklearn.model_selection import train_test_split\n",
        "x_train, x_test, y_train, y_test = train_test_split(x ,y, train_size = 0.8, random_state = 41, stratify = y)"
      ]
    },
    {
      "cell_type": "markdown",
      "metadata": {
        "id": "bE2emrTjfck7"
      },
      "source": [
        "# **3. Training the Different Models**"
      ]
    },
    {
      "cell_type": "markdown",
      "metadata": {
        "id": "gEPBH7oi28Co"
      },
      "source": [
        "Train different models with the following configurations and try to achieve maximum recall score or balanced precision/recall scores."
      ]
    },
    {
      "cell_type": "markdown",
      "metadata": {
        "id": "zkK9-_UZ3KcH"
      },
      "source": [
        "# 3.1 Simple Logistic Regression\n",
        "Train simple logistic regression model and evaluate it on the validation set and print precision, recall, classification_report and ROC_AUC at the end."
      ]
    },
    {
      "cell_type": "code",
      "execution_count": null,
      "metadata": {
        "colab": {
          "base_uri": "https://localhost:8080/"
        },
        "id": "SXADV6H54U-n",
        "outputId": "fd736f5f-23ba-4c54-908b-63d681a542ea"
      },
      "outputs": [
        {
          "output_type": "stream",
          "name": "stdout",
          "text": [
            "Accuracy of the model is : 0.9600105235464351\n"
          ]
        }
      ],
      "source": [
        "# Your code here\n",
        "\n",
        "from sklearn.linear_model import LogisticRegression\n",
        "from sklearn.metrics import accuracy_score, confusion_matrix\n",
        "logreg = LogisticRegression()\n",
        "logreg.fit(x_train, y_train)\n",
        "y_pred = logreg.predict(x_test)\n",
        "acc = accuracy_score(y_test, y_pred)\n",
        "print(f'Accuracy of the model is : {acc}')"
      ]
    },
    {
      "cell_type": "code",
      "execution_count": null,
      "metadata": {
        "colab": {
          "base_uri": "https://localhost:8080/"
        },
        "id": "8TS803Ku4YsQ",
        "outputId": "0304c701-e9f2-4ed7-8aee-85c4cbefe56a"
      },
      "outputs": [
        {
          "output_type": "stream",
          "name": "stdout",
          "text": [
            "              precision    recall  f1-score   support\n",
            "\n",
            "           0       0.96      1.00      0.98     14602\n",
            "           1       0.25      0.00      0.01       602\n",
            "\n",
            "    accuracy                           0.96     15204\n",
            "   macro avg       0.61      0.50      0.49     15204\n",
            "weighted avg       0.93      0.96      0.94     15204\n",
            "\n"
          ]
        }
      ],
      "source": [
        "print(classification_report(y_test,y_pred))"
      ]
    },
    {
      "cell_type": "markdown",
      "metadata": {
        "id": "3vqgG2rI4bxU"
      },
      "source": [
        "# 3.2 Train Vanilla kNN\n",
        "Train simple kNN model and evaluate it on the validation set and print precision, recall, classification_report and ROC_AUC at the end."
      ]
    },
    {
      "cell_type": "code",
      "execution_count": null,
      "metadata": {
        "id": "vNfNdC-X-QuB",
        "colab": {
          "base_uri": "https://localhost:8080/"
        },
        "outputId": "cdd2cc15-4532-4441-9548-f943003affd8"
      },
      "outputs": [
        {
          "output_type": "stream",
          "name": "stdout",
          "text": [
            "Accuracy of the model is :0.9579058142594055\n"
          ]
        }
      ],
      "source": [
        "# Your code here\n",
        "from sklearn.neighbors import KNeighborsClassifier\n",
        "model = KNeighborsClassifier()\n",
        "model.fit(x_train,y_train)\n",
        "y_pred = model.predict(x_test)\n",
        "acc = accuracy_score(y_test,y_pred)\n",
        "print(f'Accuracy of the model is :{acc}')"
      ]
    },
    {
      "cell_type": "code",
      "source": [
        "print(classification_report(y_test,y_pred))"
      ],
      "metadata": {
        "colab": {
          "base_uri": "https://localhost:8080/"
        },
        "id": "xm2btRSN1DVU",
        "outputId": "f9637e68-4286-4e92-e5d0-e9c57573ca99"
      },
      "execution_count": null,
      "outputs": [
        {
          "output_type": "stream",
          "name": "stdout",
          "text": [
            "              precision    recall  f1-score   support\n",
            "\n",
            "           0       0.96      1.00      0.98     14602\n",
            "           1       0.24      0.03      0.05       602\n",
            "\n",
            "    accuracy                           0.96     15204\n",
            "   macro avg       0.60      0.51      0.51     15204\n",
            "weighted avg       0.93      0.96      0.94     15204\n",
            "\n"
          ]
        }
      ]
    },
    {
      "cell_type": "markdown",
      "metadata": {
        "id": "NpYUqJQD-VLy"
      },
      "source": [
        "# 3.3 Train kNN for k=2 and k=4 and evaluate it\n",
        "Train kNN model with k values above and evaluate it on the validation set and print precision, recall, classification_report and ROC_AUC at the end."
      ]
    },
    {
      "cell_type": "code",
      "execution_count": null,
      "metadata": {
        "colab": {
          "base_uri": "https://localhost:8080/"
        },
        "id": "EWTIykAk-ihw",
        "outputId": "88da2ff8-4038-4095-bf97-cea1a6e85d34"
      },
      "outputs": [
        {
          "output_type": "stream",
          "name": "stdout",
          "text": [
            "Accuracy of the model is : 0.9572480926072087\n"
          ]
        }
      ],
      "source": [
        "# Your code here\n",
        "from sklearn import neighbors\n",
        "model = KNeighborsClassifier(n_neighbors = 2)\n",
        "model.fit(x_train, y_train)\n",
        "y_pred = model.predict(x_test)\n",
        "acc = accuracy_score(y_test, y_pred)\n",
        "print(f'Accuracy of the model is : {acc}')"
      ]
    },
    {
      "cell_type": "code",
      "execution_count": null,
      "metadata": {
        "colab": {
          "base_uri": "https://localhost:8080/"
        },
        "id": "cfZmUMMNWG7g",
        "outputId": "a011ff8a-e233-48d7-82d6-0a2a140f3a65"
      },
      "outputs": [
        {
          "output_type": "stream",
          "name": "stdout",
          "text": [
            "              precision    recall  f1-score   support\n",
            "\n",
            "           0       0.96      1.00      0.98     14602\n",
            "           1       0.14      0.01      0.03       602\n",
            "\n",
            "    accuracy                           0.96     15204\n",
            "   macro avg       0.55      0.51      0.50     15204\n",
            "weighted avg       0.93      0.96      0.94     15204\n",
            "\n"
          ]
        }
      ],
      "source": [
        "print(classification_report(y_test,y_pred))\n"
      ]
    },
    {
      "cell_type": "code",
      "execution_count": null,
      "metadata": {
        "colab": {
          "base_uri": "https://localhost:8080/"
        },
        "id": "t_yCUj08Vu_5",
        "outputId": "58804d8b-2259-4fba-d427-854a5a74f7cc"
      },
      "outputs": [
        {
          "output_type": "stream",
          "name": "stdout",
          "text": [
            "Accuracy of the model is : 0.9594843462246777\n"
          ]
        }
      ],
      "source": [
        "from sklearn import neighbors\n",
        "model = KNeighborsClassifier(n_neighbors = 4)\n",
        "model.fit(x_train, y_train)\n",
        "y_pred = model.predict(x_test)\n",
        "acc = accuracy_score(y_test, y_pred)\n",
        "print(f'Accuracy of the model is : {acc}')"
      ]
    },
    {
      "cell_type": "code",
      "execution_count": null,
      "metadata": {
        "colab": {
          "base_uri": "https://localhost:8080/"
        },
        "id": "Q2Y4BhZmWOzU",
        "outputId": "90b7c3d9-fca3-4b08-8e62-5f1b6db2b4af"
      },
      "outputs": [
        {
          "output_type": "stream",
          "name": "stdout",
          "text": [
            "              precision    recall  f1-score   support\n",
            "\n",
            "           0       0.96      1.00      0.98     14602\n",
            "           1       0.29      0.02      0.03       602\n",
            "\n",
            "    accuracy                           0.96     15204\n",
            "   macro avg       0.63      0.51      0.51     15204\n",
            "weighted avg       0.93      0.96      0.94     15204\n",
            "\n"
          ]
        }
      ],
      "source": [
        "print(classification_report(y_test,y_pred))"
      ]
    },
    {
      "cell_type": "markdown",
      "metadata": {
        "id": "pl6Wnv3h-7Hp"
      },
      "source": [
        "# 3.4 Training a Tuned Logistic Regression Model with Upsampling using SMOTE\n",
        "Train tuned Logistic Regression model with following configurations and evaluate it on the validation set and print precision, recall, classification_report and ROC_AUC at the end.\n",
        "\n",
        "\n",
        "\n",
        "```\n",
        "logreg_tuned_upsampled = LogisticRegression(max_iter=50000,class_weight='balanced',C=100,\n",
        "                                         fit_intercept=True, penalty='l2',solver='newton-cg')\n",
        "```\n",
        "\n",
        "SMOTE stands for Synthetic Minority Oversampling Technique.\n",
        "\n",
        "SMOTE first selects a minority class instance a at random and finds its k nearest minority class neighbors. The synthetic instance is then created by choosing one of the k nearest neighbors b at random and connecting a and b to form a line segment in the feature space. The synthetic instances are generated as a convex combination of the two chosen instances a and b\n",
        "\n",
        "Credits : https://machinelearningmastery.com/smote-oversampling-for-imbalanced-classification/\n",
        "\n",
        "Important: Please umsample the data before training this model.\n"
      ]
    },
    {
      "cell_type": "code",
      "execution_count": null,
      "metadata": {
        "id": "XSBQKXwC_QRV"
      },
      "outputs": [],
      "source": [
        "# Your code here\n",
        "from sklearn import metrics\n",
        "from imblearn.over_sampling import SMOTE\n",
        "sm = SMOTE(random_state=1)\n",
        "x_res, y_res = sm.fit_resample(x_train, y_train)\n",
        "\n",
        "itu = LogisticRegression(max_iter=1000,class_weight='balanced',C=100, fit_intercept=True, penalty='l2',solver='newton-cg')\n",
        "\n",
        "itu.fit(x_res, y_res)\n",
        "y_pred = itu.predict(x_test)\n",
        "acc = accuracy_score(y_test, y_pred)\n",
        "print(f'Accuracy of the model is : {acc}')\n"
      ]
    },
    {
      "cell_type": "code",
      "execution_count": null,
      "metadata": {
        "id": "x25tNANLXlwv"
      },
      "outputs": [],
      "source": [
        "print(classification_report(y_test,y_pred))\n",
        "fpr, tpr, _ = metrics.roc_curve(y_test, y_pred)\n",
        "auc = round(metrics.roc_auc_score(y_test, y_pred), 4)"
      ]
    },
    {
      "cell_type": "markdown",
      "metadata": {
        "id": "fhQYbWJrAetS"
      },
      "source": [
        "# 3.5 Training a Tuned Logistic Regression Model with Class Weights\n",
        "Train tuned Logistic Regression model with following configurations and evaluate it on the validation set and print precision, recall, classification_report and ROC_AUC at the end.\n",
        "\n",
        "\n",
        "\n",
        "```\n",
        "log_tuned_class_weight = LogisticRegression(max_iter=50000,class_weight={0:1,1:25},C=100,fit_intercept=True,\n",
        "                               penalty='l2',solver='newton-cg')\n",
        "```\n",
        "\n"
      ]
    },
    {
      "cell_type": "code",
      "execution_count": null,
      "metadata": {
        "id": "rAzyS-o3Azt3"
      },
      "outputs": [],
      "source": [
        "# Your code here\n",
        "log_tuned_class_weight = LogisticRegression(max_iter=1000,class_weight={0:1,1:25},C=100,fit_intercept=True,\n",
        "                               penalty='l2',solver='newton-cg')\n",
        "x_train, x_test, y_train, y_test = train_test_split(x, y, test_size=0.33, random_state=69)\n",
        "SM=SMOTE(random_state=1)\n",
        "x_res,y_res=SM.fit_resample(x_train,y_train)\n",
        "log_tuned_class_weight = LogisticRegression(max_iter=1000,class_weight={0:1,1:25},C=100,fit_intercept=True,\n",
        "                               penalty='l2',solver='newton-cg')\n",
        "log_tuned_class_weight.fit(x_res,y_res)\n",
        "y_pred = log_tuned_class_weight.predict(x_test)\n",
        "acc = accuracy_score(y_test, y_pred)\n",
        "print(f'Accuracy of the model is : {acc}')"
      ]
    },
    {
      "cell_type": "code",
      "source": [
        "print(classification_report(y_test,y_pred))\n",
        "fpr, tpr, _ = metrics.roc_curve(y_test, y_pred)\n",
        "auc = round(metrics.roc_auc_score(y_test, y_pred), 4)"
      ],
      "metadata": {
        "id": "cz7qr6Z952tb"
      },
      "execution_count": null,
      "outputs": []
    },
    {
      "cell_type": "markdown",
      "metadata": {
        "id": "aQbblvnuBuZf"
      },
      "source": [
        "# 3.6 Training a Tuned Random Forest Model with Class Weights\n",
        "Train Random Forest Classifier model with following configurations and evaluate it on the validation set and print precision, recall, classification_report and ROC_AUC at the end.\n",
        "\n",
        "\n",
        "```\n",
        "rfc_tuned = RandomForestClassifier(random_state=1, n_jobs=-1, class_weight={0:1, 1:25}, criterion='gini', max_depth= 6, min_samples_split= 12, n_estimators= 400, warm_start=True)\n",
        "\n",
        "```\n",
        "\n"
      ]
    },
    {
      "cell_type": "code",
      "execution_count": null,
      "metadata": {
        "id": "rFuQAbscCAVT"
      },
      "outputs": [],
      "source": [
        "x_train, x_test, y_train, y_test = train_test_split(x, y, test_size=0.33, random_state=69)\n",
        "SM=SMOTE(random_state=1)\n",
        "x_res,y_res=SM.fit_resample(x_train,y_train)\n",
        "rfc_tuned = RandomForestClassifier(random_state=1, n_jobs=-1, class_weight={0:1, 1:25}, criterion='gini', max_depth= 6, min_samples_split= 12, n_estimators= 400, warm_start=True)\n",
        "\n",
        "rfc_tuned.fit(x_res,y_res)\n",
        "y_pred = rfc_tuned.predict(x_test)\n",
        "acc = accuracy_score(y_test, y_pred)\n",
        "print(f'Accuracy of the model is : {acc}')"
      ]
    },
    {
      "cell_type": "code",
      "source": [
        "print(classification_report(y_test,y_pred))\n",
        "fpr, tpr, _ = metrics.roc_curve(y_test, y_pred)\n",
        "auc = round(metrics.roc_auc_score(y_test, y_pred), 4)"
      ],
      "metadata": {
        "id": "B0EiqUyg6C-8"
      },
      "execution_count": null,
      "outputs": []
    },
    {
      "cell_type": "markdown",
      "metadata": {
        "id": "qbWGghMqCa7C"
      },
      "source": [
        "# 3.5 Training a Tuned XGBoost Classifier Model with Class Weights\n",
        "Train XGBoost Classifier model with following configurations and evaluate it on the validation set and print precision, recall, classification_report and ROC_AUC at the end.\n",
        "\n",
        "\n",
        "\n",
        "```\n",
        "# Lets train the XGBoost with best hyper parameters\n",
        "# based on scoring='Recall'\n",
        "# {'booster': 'dart', 'eta': 0.01, 'max_depth': 2, 'n_estimators': 150}\n",
        "# These are the best parameters we got\n",
        "```\n",
        "\n",
        "\n",
        "\n",
        "```\n",
        "xgb_tuned = XGBClassifier(scale_pos_weight = 25, eval_metric = 'logloss', seed =0, \n",
        "               objective='binary:logistic', \n",
        "              nthreads=-1, early_stopping_rounds=15, booster='dart', scoring='Recall',\n",
        "              eta=0.01, max_depth=2, n_estimators=150)\n",
        "```\n",
        "\n"
      ]
    },
    {
      "cell_type": "code",
      "execution_count": null,
      "metadata": {
        "id": "87KYFu5WDBZi"
      },
      "outputs": [],
      "source": [
        "# Your code here\n",
        "x_train, x_test, y_train, y_test = train_test_split(x, y, test_size=0.33, random_state=69)\n",
        "SM=SMOTE(random_state=1)\n",
        "x_res,y_res=SM.fit_resample(x_train,y_train)\n",
        "xgb_tuned = XGBClassifier(scale_pos_weight = 25, eval_metric = 'logloss', seed =0, \n",
        "               objective='binary:logistic', \n",
        "              nthreads=-1, early_stopping_rounds=15, booster='dart', scoring='Recall',\n",
        "              eta=0.01, max_depth=2, n_estimators=150)\n",
        "xgb_tuned.fit(x_res,y_res)\n",
        "y_pred=xgb_tuned.predict(x_test)\n",
        "acc = accuracy_score(y_test, y_pred)\n",
        "print(f'Accuracy of the model is : {acc}')"
      ]
    },
    {
      "cell_type": "code",
      "source": [
        "print(classification_report(y_test,y_pred))\n",
        "fpr, tpr, _ = metrics.roc_curve(y_test, y_pred)\n",
        "auc = round(metrics.roc_auc_score(y_test, y_pred), 4)"
      ],
      "metadata": {
        "id": "8Bp5KSVx7BFO"
      },
      "execution_count": null,
      "outputs": []
    },
    {
      "cell_type": "markdown",
      "metadata": {
        "id": "hxjNDTyzDDXm"
      },
      "source": [
        "# **4. Plot the ROC-AUC Curves of all the models**"
      ]
    },
    {
      "cell_type": "code",
      "execution_count": null,
      "metadata": {
        "id": "AM1_0TQhDJhp"
      },
      "outputs": [],
      "source": [
        "# Your code here\n",
        "\n"
      ]
    },
    {
      "cell_type": "markdown",
      "metadata": {
        "id": "Us8XkDlADPL0"
      },
      "source": [
        "**Conclusion**\n",
        "\n",
        "Conclusion in your own words here."
      ]
    }
  ],
  "metadata": {
    "accelerator": "GPU",
    "colab": {
      "collapsed_sections": [],
      "name": "Sharjeel Akram - lab_13_pre.ipynb",
      "provenance": []
    },
    "kernelspec": {
      "display_name": "Python 3",
      "name": "python3"
    },
    "language_info": {
      "name": "python"
    }
  },
  "nbformat": 4,
  "nbformat_minor": 0
}