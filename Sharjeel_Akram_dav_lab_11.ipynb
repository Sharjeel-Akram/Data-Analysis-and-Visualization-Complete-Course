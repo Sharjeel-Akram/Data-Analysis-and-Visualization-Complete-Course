{
  "metadata": {
    "kernelspec": {
      "name": "python3",
      "display_name": "Python 3 (ipykernel)",
      "language": "python"
    },
    "colab": {
      "name": "Sharjeel Akram - dav_lab_11_exercises.ipynb",
      "provenance": []
    }
  },
  "nbformat": 4,
  "nbformat_minor": 0,
  "cells": [
    {
      "cell_type": "markdown",
      "metadata": {
        "id": "mkXmIHB1mKw8"
      },
      "source": [
        "![](fig/univ.png)\n",
        "\n",
        "# DAV Lab - Exercises(Graded)\n",
        "## Linear, Multi and Polynomial and kNN Regression \n",
        "\n",
        "**Data Analysis and Visualization(Lab)**<br/>\n",
        "**Namal University, Mianwali**<br/>\n",
        "<hr style=\"height:2.4pt\">"
      ]
    },
    {
      "cell_type": "code",
      "execution_count": null,
      "metadata": {
        "id": "WX6Rby_dmKxO"
      },
      "outputs": [],
      "source": [
        "#RUN THIS CELL \n",
        "import requests\n",
        "from IPython.core.display import HTML"
      ]
    },
    {
      "cell_type": "code",
      "execution_count": null,
      "metadata": {
        "id": "FiF2jFasmKxS"
      },
      "outputs": [],
      "source": [
        "#RUN THIS CELL\n",
        "import os\n",
        "import pathlib\n",
        "working_dir = pathlib.Path().absolute()\n",
        "os.chdir(working_dir)"
      ]
    },
    {
      "cell_type": "markdown",
      "metadata": {
        "id": "eMuGjkxsmKxW"
      },
      "source": [
        "<hr style=\"height:2pt\">\n",
        "\n",
        "<h2> INSTRUCTIONS </h2>\n",
        "\n",
        "\n",
        "- This is a jupyter notebook of your homework. Work on Google colab or download it and work on your local machine.\n",
        "\n",
        "- Ensure you have submitted the homework.\n",
        "\n",
        "- Please restart the kernel and run the entire notebook again before you submit. When you are sure to have no errors but still getting errors then also restart the kernel and run the code cell/notebook again.\n",
        "\n",
        "- Running cells out of order is a common pitfall in Jupyter Notebooks. To make sure your code works restart the kernel and run the whole notebook again before you submit. \n",
        "\n",
        "- To submit the lab work, either upload the working notebook on classroom or edit the default notebook assigned to you.\n",
        "\n",
        "- Submit the lab work well before the given deadline. Submissions after the deadline will not be graded.\n",
        "\n",
        "- We have tried to include all the libraries you may need to do the assignment in the imports statement at the top of this notebook. We strongly suggest that you use those and not others as we may not be familiar with them.\n",
        "\n",
        "- Comment your code well. This would help me in case there is any issue with the notebook while running.  \n",
        "\n",
        "- Please use .head() when viewing data. Do not submit a notebook that is **excessively long**. \n",
        "\n",
        "- In questions that require code to answer, such as \"calculate the $R^2$\", do not just output the value from a cell. Write a `print()` function that includes a reference to the calculated value, **not hardcoded**. For example: \n",
        "```\n",
        "print(f'The R^2 is {R:.4f}')\n",
        "<hr style=\"height:2pt\">"
      ]
    },
    {
      "cell_type": "markdown",
      "metadata": {
        "id": "K-FZ-ELwmKxZ"
      },
      "source": [
        "<h2> Overview </h2> \n",
        "\n",
        "These lab tasks are the first where you will go through the process of loading a dataset, splitting it in train,validation and test sets, \n",
        "pre-processing it, and finally using it to run models and evaluating your results. \n",
        "\n",
        "We have two different datasets, one with car data in **Part 1** and another with data from an Indian matrimonial web site in **Part 2**.\n",
        "\n",
        "For part 1, you will explore simple method for prediction **linear regression**,  a *parametric* method. As you move towards Part 2 of the homework, you will work with multiple linear and polynomial regression."
      ]
    },
    {
      "cell_type": "code",
      "execution_count": null,
      "metadata": {
        "id": "2Kf39uGcmKxd",
        "colab": {
          "base_uri": "https://localhost:8080/"
        },
        "outputId": "004dfad8-af67-4d72-b493-449aa12fe251"
      },
      "outputs": [
        {
          "output_type": "stream",
          "name": "stdout",
          "text": [
            "Requirement already satisfied: seaborn in /usr/local/lib/python3.7/dist-packages (0.11.2)\n",
            "Requirement already satisfied: numpy>=1.15 in /usr/local/lib/python3.7/dist-packages (from seaborn) (1.21.6)\n",
            "Requirement already satisfied: matplotlib>=2.2 in /usr/local/lib/python3.7/dist-packages (from seaborn) (3.2.2)\n",
            "Requirement already satisfied: scipy>=1.0 in /usr/local/lib/python3.7/dist-packages (from seaborn) (1.4.1)\n",
            "Requirement already satisfied: pandas>=0.23 in /usr/local/lib/python3.7/dist-packages (from seaborn) (1.3.5)\n",
            "Requirement already satisfied: kiwisolver>=1.0.1 in /usr/local/lib/python3.7/dist-packages (from matplotlib>=2.2->seaborn) (1.4.2)\n",
            "Requirement already satisfied: pyparsing!=2.0.4,!=2.1.2,!=2.1.6,>=2.0.1 in /usr/local/lib/python3.7/dist-packages (from matplotlib>=2.2->seaborn) (3.0.8)\n",
            "Requirement already satisfied: cycler>=0.10 in /usr/local/lib/python3.7/dist-packages (from matplotlib>=2.2->seaborn) (0.11.0)\n",
            "Requirement already satisfied: python-dateutil>=2.1 in /usr/local/lib/python3.7/dist-packages (from matplotlib>=2.2->seaborn) (2.8.2)\n",
            "Requirement already satisfied: typing-extensions in /usr/local/lib/python3.7/dist-packages (from kiwisolver>=1.0.1->matplotlib>=2.2->seaborn) (4.1.1)\n",
            "Requirement already satisfied: pytz>=2017.3 in /usr/local/lib/python3.7/dist-packages (from pandas>=0.23->seaborn) (2022.1)\n",
            "Requirement already satisfied: six>=1.5 in /usr/local/lib/python3.7/dist-packages (from python-dateutil>=2.1->matplotlib>=2.2->seaborn) (1.15.0)\n"
          ]
        }
      ],
      "source": [
        "!pip install seaborn"
      ]
    },
    {
      "cell_type": "code",
      "execution_count": null,
      "metadata": {
        "collapsed": true,
        "id": "wAL0XA9ZmKxf"
      },
      "outputs": [],
      "source": [
        "# Importing standard libraries\n",
        "import numpy as np\n",
        "import operator\n",
        "import pandas as pd\n",
        "import matplotlib\n",
        "import matplotlib.pyplot as plt\n",
        "from sklearn.metrics import r2_score\n",
        "from sklearn.metrics import mean_squared_error\n",
        "import seaborn as sns\n",
        "from sklearn.model_selection import train_test_split\n",
        "from sklearn.model_selection import cross_validate\n",
        "from sklearn.metrics import mean_squared_error\n",
        "from sklearn.linear_model import LinearRegression\n",
        "from sklearn import neighbors\n",
        "from matplotlib.pyplot import figure\n",
        "\n",
        "# Pandas tricks for better display\n",
        "pd.options.display.max_columns = 50  \n",
        "pd.options.display.max_rows = 500     \n",
        "pd.options.display.max_colwidth = 100\n",
        "pd.options.display.precision = 3\n",
        "\n",
        "# Part 2 imports \n",
        "from scipy.stats import norm\n",
        "from sklearn.preprocessing import PolynomialFeatures"
      ]
    },
    {
      "cell_type": "code",
      "execution_count": null,
      "metadata": {
        "id": "IOahKxlimKxh"
      },
      "outputs": [],
      "source": [
        "# Run this cell for more readable visuals \n",
        "large = 22; med = 16; small = 10\n",
        "params = {'axes.titlesize': large,\n",
        "          'legend.fontsize': med,\n",
        "          'figure.figsize': (16, 10),\n",
        "          'axes.labelsize': med,\n",
        "          'axes.titlesize': med,\n",
        "          'axes.linewidth': 2,\n",
        "          'xtick.labelsize': med,\n",
        "          'ytick.labelsize': med,\n",
        "          'figure.titlesize': large}\n",
        "plt.style.use('seaborn-whitegrid')\n",
        "plt.rcParams.update(params)\n",
        "%matplotlib inline"
      ]
    },
    {
      "cell_type": "markdown",
      "metadata": {
        "id": "-ZCMWdPZmKxj"
      },
      "source": [
        "<div class=\"alert alert-block alert-danger\" style=\"color:black;background-color:#F6E6E2\">\n",
        "<h2 style=\"color:black;background-color:#F6E6E2\"> kNN and Linear Regression </h2>    <br />\n",
        "\n",
        "\n",
        "### Problem Description: Predicting the Selling Price of Cars on CarDekho.com\n",
        "\n",
        "According to its website, **CarDekho.com** is India's leading car search venture. \n",
        "Its website and app carry rich automotive content such as expert reviews, \n",
        "detailed specs and prices, comparisons as well as videos and pictures of all car brands and models available in India. \n",
        "Each car has a **Current selling price**, which is the price for buying the car on this site, and a **MRP**, \n",
        "which is the retail price of the car. These two prices differ depending on factors such as brand, \n",
        "make year, mileage, condition, etc.  \n",
        "    \n",
        "#### DATASET\n",
        "\n",
        "The dataset contains 601 cars and is in file `car_dekho_full.csv`. It contains the following columns:\n",
        "\n",
        "- **Year** - make year (year the car was made), \n",
        "- **Current_Selling_Price** - current price of a car on CarDekho.com (in lakhs),\n",
        "- **MRP** - maximum retail price of a car (in lakhs),\n",
        "- **Kms_Driven** - number of kilometers\n",
        "\n",
        "Note: 1 *lakh*  is 100,000 Rupees in the Indian numbering system. Also, kilometers are used as a measure of distance instead of miles.\n",
        "\n",
        "#### Your Task: \n",
        "Predict the `Current_Selling_Price` from the other features.\n"
      ]
    },
    {
      "cell_type": "markdown",
      "metadata": {
        "id": "K0WXnE-qmKxm"
      },
      "source": [
        "\n",
        "\n",
        "<div class=\"alert alert-block alert-danger\" style=\"color:black;background-color:#F6E6E2\">\n",
        "<b> Question 1:   Exploratory Data Analysis (EDA)</b>\n",
        "\n",
        "To reach the goal of predicting the `Current_Selling_Price`, start by inspecting the dataset using Exploratory Data Analysis (EDA).\n",
        "\n",
        "Load the dataset, inspect it and answer the following questions: \n",
        "\n",
        "**1.1** Which variables are quantitative, and which are categorical? \n",
        "\n",
        "**1.2** What are the means and standard deviations for `Current_Selling_Price` and `MRP`? \n",
        "\n",
        "**1.3** What is the range of Kilometers that the cars have?\n",
        "\n",
        "**1.4** The goal of this part is to identify the best variable from which to predict our respone variable `Current Selling Price`. Plot a scatter plot between each predictor and reponse variable and examine the relationship between the predictors and `Current_Selling_Price`. Based on the plots, which is the  predictor that visually seems to best predict the `Current_Selling_Price`? \n",
        "    \n",
        "**Note**: Label your axes.\n",
        "</div>"
      ]
    },
    {
      "cell_type": "code",
      "source": [
        "df = pd.read_csv('https://raw.githubusercontent.com/akmalatnamal/davlab7/main/car_dekho_full.csv')\n",
        "df.head()"
      ],
      "metadata": {
        "colab": {
          "base_uri": "https://localhost:8080/",
          "height": 206
        },
        "id": "gXCUl6T4y7Hz",
        "outputId": "8146ead2-4773-4ca5-ab31-d13cfc4cf1ca"
      },
      "execution_count": null,
      "outputs": [
        {
          "output_type": "execute_result",
          "data": {
            "text/plain": [
              "   Year  Current_Selling_Price    MRP  Kms_Driven\n",
              "0  2016                   5.25   5.70        3493\n",
              "1  2005                   3.51  13.70       75000\n",
              "2  2010                   0.31   1.05      213000\n",
              "3  2006                   2.10   7.60       50456\n",
              "4  2005                   0.20   0.57       55000"
            ],
            "text/html": [
              "\n",
              "  <div id=\"df-52f96278-f55e-4739-b86a-4cd3462a8a15\">\n",
              "    <div class=\"colab-df-container\">\n",
              "      <div>\n",
              "<style scoped>\n",
              "    .dataframe tbody tr th:only-of-type {\n",
              "        vertical-align: middle;\n",
              "    }\n",
              "\n",
              "    .dataframe tbody tr th {\n",
              "        vertical-align: top;\n",
              "    }\n",
              "\n",
              "    .dataframe thead th {\n",
              "        text-align: right;\n",
              "    }\n",
              "</style>\n",
              "<table border=\"1\" class=\"dataframe\">\n",
              "  <thead>\n",
              "    <tr style=\"text-align: right;\">\n",
              "      <th></th>\n",
              "      <th>Year</th>\n",
              "      <th>Current_Selling_Price</th>\n",
              "      <th>MRP</th>\n",
              "      <th>Kms_Driven</th>\n",
              "    </tr>\n",
              "  </thead>\n",
              "  <tbody>\n",
              "    <tr>\n",
              "      <th>0</th>\n",
              "      <td>2016</td>\n",
              "      <td>5.25</td>\n",
              "      <td>5.70</td>\n",
              "      <td>3493</td>\n",
              "    </tr>\n",
              "    <tr>\n",
              "      <th>1</th>\n",
              "      <td>2005</td>\n",
              "      <td>3.51</td>\n",
              "      <td>13.70</td>\n",
              "      <td>75000</td>\n",
              "    </tr>\n",
              "    <tr>\n",
              "      <th>2</th>\n",
              "      <td>2010</td>\n",
              "      <td>0.31</td>\n",
              "      <td>1.05</td>\n",
              "      <td>213000</td>\n",
              "    </tr>\n",
              "    <tr>\n",
              "      <th>3</th>\n",
              "      <td>2006</td>\n",
              "      <td>2.10</td>\n",
              "      <td>7.60</td>\n",
              "      <td>50456</td>\n",
              "    </tr>\n",
              "    <tr>\n",
              "      <th>4</th>\n",
              "      <td>2005</td>\n",
              "      <td>0.20</td>\n",
              "      <td>0.57</td>\n",
              "      <td>55000</td>\n",
              "    </tr>\n",
              "  </tbody>\n",
              "</table>\n",
              "</div>\n",
              "      <button class=\"colab-df-convert\" onclick=\"convertToInteractive('df-52f96278-f55e-4739-b86a-4cd3462a8a15')\"\n",
              "              title=\"Convert this dataframe to an interactive table.\"\n",
              "              style=\"display:none;\">\n",
              "        \n",
              "  <svg xmlns=\"http://www.w3.org/2000/svg\" height=\"24px\"viewBox=\"0 0 24 24\"\n",
              "       width=\"24px\">\n",
              "    <path d=\"M0 0h24v24H0V0z\" fill=\"none\"/>\n",
              "    <path d=\"M18.56 5.44l.94 2.06.94-2.06 2.06-.94-2.06-.94-.94-2.06-.94 2.06-2.06.94zm-11 1L8.5 8.5l.94-2.06 2.06-.94-2.06-.94L8.5 2.5l-.94 2.06-2.06.94zm10 10l.94 2.06.94-2.06 2.06-.94-2.06-.94-.94-2.06-.94 2.06-2.06.94z\"/><path d=\"M17.41 7.96l-1.37-1.37c-.4-.4-.92-.59-1.43-.59-.52 0-1.04.2-1.43.59L10.3 9.45l-7.72 7.72c-.78.78-.78 2.05 0 2.83L4 21.41c.39.39.9.59 1.41.59.51 0 1.02-.2 1.41-.59l7.78-7.78 2.81-2.81c.8-.78.8-2.07 0-2.86zM5.41 20L4 18.59l7.72-7.72 1.47 1.35L5.41 20z\"/>\n",
              "  </svg>\n",
              "      </button>\n",
              "      \n",
              "  <style>\n",
              "    .colab-df-container {\n",
              "      display:flex;\n",
              "      flex-wrap:wrap;\n",
              "      gap: 12px;\n",
              "    }\n",
              "\n",
              "    .colab-df-convert {\n",
              "      background-color: #E8F0FE;\n",
              "      border: none;\n",
              "      border-radius: 50%;\n",
              "      cursor: pointer;\n",
              "      display: none;\n",
              "      fill: #1967D2;\n",
              "      height: 32px;\n",
              "      padding: 0 0 0 0;\n",
              "      width: 32px;\n",
              "    }\n",
              "\n",
              "    .colab-df-convert:hover {\n",
              "      background-color: #E2EBFA;\n",
              "      box-shadow: 0px 1px 2px rgba(60, 64, 67, 0.3), 0px 1px 3px 1px rgba(60, 64, 67, 0.15);\n",
              "      fill: #174EA6;\n",
              "    }\n",
              "\n",
              "    [theme=dark] .colab-df-convert {\n",
              "      background-color: #3B4455;\n",
              "      fill: #D2E3FC;\n",
              "    }\n",
              "\n",
              "    [theme=dark] .colab-df-convert:hover {\n",
              "      background-color: #434B5C;\n",
              "      box-shadow: 0px 1px 3px 1px rgba(0, 0, 0, 0.15);\n",
              "      filter: drop-shadow(0px 1px 2px rgba(0, 0, 0, 0.3));\n",
              "      fill: #FFFFFF;\n",
              "    }\n",
              "  </style>\n",
              "\n",
              "      <script>\n",
              "        const buttonEl =\n",
              "          document.querySelector('#df-52f96278-f55e-4739-b86a-4cd3462a8a15 button.colab-df-convert');\n",
              "        buttonEl.style.display =\n",
              "          google.colab.kernel.accessAllowed ? 'block' : 'none';\n",
              "\n",
              "        async function convertToInteractive(key) {\n",
              "          const element = document.querySelector('#df-52f96278-f55e-4739-b86a-4cd3462a8a15');\n",
              "          const dataTable =\n",
              "            await google.colab.kernel.invokeFunction('convertToInteractive',\n",
              "                                                     [key], {});\n",
              "          if (!dataTable) return;\n",
              "\n",
              "          const docLinkHtml = 'Like what you see? Visit the ' +\n",
              "            '<a target=\"_blank\" href=https://colab.research.google.com/notebooks/data_table.ipynb>data table notebook</a>'\n",
              "            + ' to learn more about interactive tables.';\n",
              "          element.innerHTML = '';\n",
              "          dataTable['output_type'] = 'display_data';\n",
              "          await google.colab.output.renderOutput(dataTable, element);\n",
              "          const docLink = document.createElement('div');\n",
              "          docLink.innerHTML = docLinkHtml;\n",
              "          element.appendChild(docLink);\n",
              "        }\n",
              "      </script>\n",
              "    </div>\n",
              "  </div>\n",
              "  "
            ]
          },
          "metadata": {},
          "execution_count": 141
        }
      ]
    },
    {
      "cell_type": "markdown",
      "metadata": {
        "id": "EJD4yn8RmKxo"
      },
      "source": [
        "## Solutions "
      ]
    },
    {
      "cell_type": "markdown",
      "metadata": {
        "id": "pnHqz8u0mKxq"
      },
      "source": [
        "### 1.1\n",
        "\n",
        "**Which variables are quantitative, and which are categorical?**"
      ]
    },
    {
      "cell_type": "code",
      "execution_count": null,
      "metadata": {
        "id": "taW0Wp9rmKxr",
        "colab": {
          "base_uri": "https://localhost:8080/"
        },
        "outputId": "567751e4-bcd5-40ba-fec5-36e8d845df24"
      },
      "outputs": [
        {
          "output_type": "execute_result",
          "data": {
            "text/plain": [
              "Year                       int64\n",
              "Current_Selling_Price    float64\n",
              "MRP                      float64\n",
              "Kms_Driven                 int64\n",
              "dtype: object"
            ]
          },
          "metadata": {},
          "execution_count": 142
        }
      ],
      "source": [
        "# your code here\n",
        "df.dtypes"
      ]
    },
    {
      "cell_type": "markdown",
      "source": [
        "If the percentage is above 90 of any coulmn then it is categorical otherwise it is quantitative."
      ],
      "metadata": {
        "id": "0Rkp-ir96ECn"
      }
    },
    {
      "cell_type": "code",
      "source": [
        "unique = len(df['Year'].unique())\n",
        "count = df['Year'].count()\n",
        "Check_categorical = count - unique\n",
        "Percentage = (Check_categorical / count)* 100\n",
        "print(Percentage)"
      ],
      "metadata": {
        "colab": {
          "base_uri": "https://localhost:8080/"
        },
        "id": "Mf1BuC_M0ABo",
        "outputId": "e188f085-680b-4d45-b211-c7210cebbeb5"
      },
      "execution_count": null,
      "outputs": [
        {
          "output_type": "stream",
          "name": "stdout",
          "text": [
            "97.50415973377704\n"
          ]
        }
      ]
    },
    {
      "cell_type": "code",
      "source": [
        "unique = len(df['Current_Selling_Price'].unique())\n",
        "count = df['Current_Selling_Price'].count()\n",
        "Check_categorical = count - unique\n",
        "Percentage = (Check_categorical / count)* 100\n",
        "print(Percentage)"
      ],
      "metadata": {
        "colab": {
          "base_uri": "https://localhost:8080/"
        },
        "outputId": "e3ad0f3d-2568-443c-d8a8-ee0a49de09a7",
        "id": "7WJdBotB6WQT"
      },
      "execution_count": null,
      "outputs": [
        {
          "output_type": "stream",
          "name": "stdout",
          "text": [
            "76.87188019966722\n"
          ]
        }
      ]
    },
    {
      "cell_type": "code",
      "source": [
        "unique = len(df['MRP'].unique())\n",
        "count = df['MRP'].count()\n",
        "Check_categorical = count - unique\n",
        "Percentage = (Check_categorical / count)* 100\n",
        "print(Percentage)"
      ],
      "metadata": {
        "colab": {
          "base_uri": "https://localhost:8080/"
        },
        "outputId": "d7fc6fa7-f5f4-4ba2-90b5-cbd046e32b2e",
        "id": "eAivfAfn6WzJ"
      },
      "execution_count": null,
      "outputs": [
        {
          "output_type": "stream",
          "name": "stdout",
          "text": [
            "77.70382695507487\n"
          ]
        }
      ]
    },
    {
      "cell_type": "code",
      "source": [
        "unique = len(df['Kms_Driven'].unique())\n",
        "count = df['Kms_Driven'].count()\n",
        "Check_categorical = count - unique\n",
        "Percentage = (Check_categorical / count)* 100\n",
        "print(Percentage)"
      ],
      "metadata": {
        "colab": {
          "base_uri": "https://localhost:8080/"
        },
        "outputId": "c3078750-96dc-4914-b981-2a351804db8a",
        "id": "4QVbI7B-6XN5"
      },
      "execution_count": null,
      "outputs": [
        {
          "output_type": "stream",
          "name": "stdout",
          "text": [
            "70.71547420965058\n"
          ]
        }
      ]
    },
    {
      "cell_type": "markdown",
      "source": [
        "**Categorical** = Year\n",
        "\n",
        "**Quantitative** = Current_Selling_Price, MRP, Kms_Drivem"
      ],
      "metadata": {
        "id": "2CCcIyC160Hu"
      }
    },
    {
      "cell_type": "markdown",
      "metadata": {
        "id": "SjOFBxMHmKxs"
      },
      "source": [
        "### 1.2\n",
        "\n",
        "**What are the means and standard deviations for Current_Selling_Price and MRP?**"
      ]
    },
    {
      "cell_type": "code",
      "execution_count": null,
      "metadata": {
        "id": "GePCG77mmKxt",
        "colab": {
          "base_uri": "https://localhost:8080/"
        },
        "outputId": "67bb5ed0-c09f-4f46-e1ca-c6318faa4595"
      },
      "outputs": [
        {
          "output_type": "stream",
          "name": "stdout",
          "text": [
            "The mean Current Selling Price is 4.393078202995008 lakhs\n",
            "The mean MRP is 6.911552412645585 lakhs\n",
            "The Standard Deviation of Current Selling Price is 4.518314989263965\n",
            "The Standard Deviation of MRP is 6.480120956252664\n"
          ]
        }
      ],
      "source": [
        "# Name your variables as mean_csp, mean_mrp, std_csp, std_mrp\n",
        "\n",
        "# your code here\n",
        "\n",
        "# end your code here \n",
        "mean_csp = df['Current_Selling_Price'].mean()\n",
        "mean_mrp = df['MRP'].mean()\n",
        "\n",
        "std_csp = df['Current_Selling_Price'].std()\n",
        "std_mrp = df['MRP'].std()\n",
        "\n",
        "print (\"The mean Current Selling Price is\", mean_csp,\"lakhs\")\n",
        "print (\"The mean MRP is\", mean_mrp,'lakhs')\n",
        "print (\"The Standard Deviation of Current Selling Price is\", std_csp)\n",
        "print (\"The Standard Deviation of MRP is\", std_mrp)"
      ]
    },
    {
      "cell_type": "markdown",
      "metadata": {
        "id": "NOKgXaCUmKxu"
      },
      "source": [
        "### 1.3\n",
        "\n",
        "**What is the range of Kilometers that the cars have?**"
      ]
    },
    {
      "cell_type": "code",
      "execution_count": null,
      "metadata": {
        "id": "RJqy5b6zmKxu",
        "colab": {
          "base_uri": "https://localhost:8080/"
        },
        "outputId": "e3a2f8d9-decb-47c8-e084-77b3cc8ed4b3"
      },
      "outputs": [
        {
          "output_type": "stream",
          "name": "stdout",
          "text": [
            "The range of KM between 500 and 213000 is 212500\n"
          ]
        }
      ],
      "source": [
        "# your code here\n",
        "Maximum = df['Kms_Driven'].max()\n",
        "Minimum = df['Kms_Driven'].min()\n",
        "Range = Maximum - Minimum\n",
        "print(f'The range of KM between {Minimum} and {Maximum} is {Range}')\n"
      ]
    },
    {
      "cell_type": "markdown",
      "metadata": {
        "id": "AOVCjYl0mKxv"
      },
      "source": [
        "### 1.4\n",
        "\n",
        "**The goal of this part is to identify the best variable from which to predict our respone variable Current Selling Price. Plot a scatter plot between each predictor and reponse variable and examine the relationship between the predictors and Current_Selling_Price. Based on the plots, which is the predictor that visually seem to best predict the Current_Selling_Price?**"
      ]
    },
    {
      "cell_type": "code",
      "execution_count": null,
      "metadata": {
        "id": "FjbHTz3LmKxw",
        "colab": {
          "base_uri": "https://localhost:8080/",
          "height": 1000
        },
        "outputId": "90cba84b-9b53-4d80-ffee-51e0da1b01d2"
      },
      "outputs": [
        {
          "output_type": "execute_result",
          "data": {
            "text/plain": [
              "<seaborn.axisgrid.JointGrid at 0x7fb56b926e50>"
            ]
          },
          "metadata": {},
          "execution_count": 149
        },
        {
          "output_type": "display_data",
          "data": {
            "text/plain": [
              "<Figure size 432x432 with 3 Axes>"
            ],
            "image/png": "[encoded data removed]"
          },
          "metadata": {
            "needs_background": "light"
          }
        },
        {
          "output_type": "display_data",
          "data": {
            "text/plain": [
              "<Figure size 432x432 with 3 Axes>"
            ],
            "image/png": "[encoded data removed]"
          },
          "metadata": {
            "needs_background": "light"
          }
        },
        {
          "output_type": "display_data",
          "data": {
            "text/plain": [
              "<Figure size 432x432 with 3 Axes>"
            ],
            "image/png": "[encoded data removed]"
          },
          "metadata": {
            "needs_background": "light"
          }
        }
      ],
      "source": [
        "# your code here\n",
        "sns.jointplot(x = 'Year', y = 'Current_Selling_Price', data= df, kind = 'scatter')\n",
        "sns.jointplot(x = 'MRP', y = 'Current_Selling_Price', data= df, kind = 'scatter')\n",
        "sns.jointplot(x = 'Kms_Driven', y = 'Current_Selling_Price', data= df, kind = 'scatter')\n"
      ]
    },
    {
      "cell_type": "markdown",
      "metadata": {
        "id": "v2kqi9fImKxx"
      },
      "source": [
        "**Your answer here**\n",
        "\n",
        "We have drawn the scatter plots of each predictor variable with a responsive variable and from these plots we will check the spread of each predictor with a responsive variable. If the spread of any predictor variable is greater than it will be the better prdictor. So the MRP is the best predictor."
      ]
    },
    {
      "cell_type": "markdown",
      "metadata": {
        "cell_id": "975ddc7c-c6ac-4dd1-b74f-58d2c1166e5e",
        "id": "J8zCuiT9653A"
      },
      "source": [
        "<div class=\"alert alert-block alert-danger\" style=\"color:black;background-color:#F6E6E2\">\n",
        "<b> Question 2:   k-Nearest Neighbors  </b>\n",
        "<br /><br />\n",
        "We begin our modeling with k-Nearest Neighbors (kNN) regression. You may use `sklearn`'s built-in functions.\n",
        "<br /><br />\n",
        "**2.1** In this part, we will model a kNN regression on the predictor chosen above (1.4) and the response variable `Current_Selling_Price`.\n",
        "<br /><br />\n",
        "    \n",
        "INSTRUCTIONS:\n",
        "<br />\n",
        "- Split the dataset in train and test set with 75% training data and 25% testing data, using the random_state = 109.  \n",
        "<br />\n",
        "- Fit a kNN regression model to the training set for the following 8 different values of $k$:  $k = 1,2,3,5,7,10,50,100$. \n",
        "<br />\n",
        "- Make 8 scatter plots of response vs. predictor for each $k$, arranged in a $4\\times2$ grid.  Each figure should have plots of the prediction from the k-NN regression and the actual data points on the same figure, as well as axis labels, title, and legend. Consider using the subplot functionality, unless you first try this and then decide that you have a clearer, cleaner way of communicating these plots.\n",
        "<br />\n",
        "- Evaluate the $MSE$ for the fitted models on both the training and test sets **for each $k$**.\n",
        "<br />\n",
        "- Plot the training and test $MSE$ values as a function of $k$ on the same figure.  Again, the figure must have axis labels and a legend.\n",
        "<br />\n",
        "- Find the best model based on the test $MSE$ values.\n",
        "<br />\n",
        "- Evaluate and report the $R^2$ of the best model.\n",
        "\n",
        "<br /><br />\n",
        "**2.2**  Discuss your results by answering the following questions.  You should answer the questions directly in a markdown cell of your notebook.\n",
        "<br /><br />\n",
        "- How does the value of $k$ affect the fitted model?\n",
        "<br />\n",
        "- If $n$ is the number of observations in the training set, what can you say about a k-NN regression model that uses $k = n$?  \n",
        "- Do the training and test $MSE$ plots exhibit different trends?  Explain how the value of $k$ influences the training and test $MSE$ values.\n",
        "<br />\n",
        "- Run the same code by changing the random seed during the train-test split. Do you always get the same answer? If not, why?\n",
        "<br />\n",
        "    \n",
        "    </div>"
      ]
    },
    {
      "cell_type": "markdown",
      "metadata": {
        "cell_id": "6945faa8-539f-43ba-a531-337ccc393bda",
        "id": "iZMcq7c4CKAT"
      },
      "source": [
        "### Solutions"
      ]
    },
    {
      "cell_type": "markdown",
      "metadata": {
        "cell_id": "eaed1594-de29-4e01-aae5-b6a7f76f6303",
        "tags": [],
        "id": "RWpSYkLGmjAs"
      },
      "source": [
        "### 2.1\n",
        "In this part, we will model a kNN regression on the predictor chosen above (1.4) and the response variable `Current_Selling_Price`."
      ]
    },
    {
      "cell_type": "code",
      "execution_count": null,
      "metadata": {
        "cell_id": "c81c05da-6e1e-4172-9fca-4d426b2d4018",
        "id": "ariPVC-5hpCD",
        "colab": {
          "base_uri": "https://localhost:8080/",
          "height": 883
        },
        "outputId": "53c7de06-a527-46bd-a183-edf4efea3e67"
      },
      "outputs": [
        {
          "output_type": "display_data",
          "data": {
            "text/plain": [
              "<Figure size 1080x1080 with 8 Axes>"
            ],
            "image/png": "[encoded data removed]"
          },
          "metadata": {
            "needs_background": "light"
          }
        }
      ],
      "source": [
        "#Choosing your predictor and response variable\n",
        "# your code here\n",
        "\n",
        "x = df['MRP'].values.reshape(-1,1)\n",
        "y = df['Current_Selling_Price'].values.reshape(-1,1)\n",
        "\n",
        "# end of your code here \n",
        "\n",
        "##Splitting the data into train and test sets with 75% training data and 25% testing data. Set random_state=69\n",
        "# your code here\n",
        "\n",
        "train_x, test_x, train_y, test_y = train_test_split(x, y, train_size=0.75, random_state=69)\n",
        "\n",
        "# end of your code here  \n",
        "\n",
        "\n",
        "fig, ax = plt.subplots(4, 2,figsize=(15,15))\n",
        "ax = ax.ravel()\n",
        "\n",
        "## Fit a kNN regression model to the training set for the following 8 different values of  𝑘 :  𝑘=1,2,3,5,7,10,50,100 .\n",
        "MSE_value = [] #to store rmse values for different k\n",
        "r2_score_value=[]\n",
        "i=0\n",
        "for K in [1,2,3,5,7,10,50,100]:\n",
        "    model = neighbors.KNeighborsRegressor(n_neighbors = K)\n",
        "    model.fit(train_x, train_y)  #fit the model\n",
        "    y_pred = model.predict(test_x) #make prediction on test set\n",
        "    error = mean_squared_error(test_y, y_pred)\n",
        "    r2= r2_score(test_y, y_pred)\n",
        "    ax[i].scatter(test_x, test_y, label = 'Training')\n",
        "    ax[i].scatter(test_x, y_pred, label = 'Predicted')\n",
        "    ax[i].set_title(K)\n",
        "    ax[i].legend(loc='upper right')\n",
        "    i = i + 1\n",
        "## and make 8 scatter plots of response vs. predictor for each  𝑘 , arranged in a  4×2  grid. \n",
        "## Each figure should have plots of the prediction from the k-NN regression and the actual data points on the same figure, as well as axis labels, title, and legend \n",
        "# your code here \n",
        "    MSE_value.append(error) #store rmse values\n",
        "    r2_score_value.append(r2)\n",
        "# Plotting\n",
        "plt.show()\n",
        "\n"
      ]
    },
    {
      "cell_type": "code",
      "execution_count": null,
      "metadata": {
        "cell_id": "b23b23d1-5a2d-48fe-bbff-b373a155e51f",
        "id": "zGOrNK2B653F",
        "colab": {
          "base_uri": "https://localhost:8080/",
          "height": 285
        },
        "outputId": "7a8e0684-10fd-4ac8-b741-3e307d8127ba"
      },
      "outputs": [
        {
          "output_type": "execute_result",
          "data": {
            "text/plain": [
              "<matplotlib.collections.PathCollection at 0x7fb56b8a5210>"
            ]
          },
          "metadata": {},
          "execution_count": 151
        },
        {
          "output_type": "display_data",
          "data": {
            "text/plain": [
              "<Figure size 432x288 with 1 Axes>"
            ],
            "image/png": "[encoded data removed]"
          },
          "metadata": {
            "needs_background": "light"
          }
        }
      ],
      "source": [
        "# Now make the MSE plots\n",
        "# your code here\n",
        "x = [1,2,3,5,7,10,50,100]\n",
        "y = MSE_value\n",
        "plt.scatter(x , y)"
      ]
    },
    {
      "cell_type": "code",
      "execution_count": null,
      "metadata": {
        "cell_id": "4fd7f27b-54de-42ae-9da3-26bed05db487",
        "id": "orqXeQ1xHd-U",
        "colab": {
          "base_uri": "https://localhost:8080/"
        },
        "outputId": "931d3442-ecc9-431b-86b4-813d359a4dc4"
      },
      "outputs": [
        {
          "output_type": "stream",
          "name": "stdout",
          "text": [
            "2.9661778348425463\n"
          ]
        }
      ],
      "source": [
        "# Find the best model\n",
        "# your code here\n",
        "min(MSE_value)\n",
        "print(MSE_value[4])"
      ]
    },
    {
      "cell_type": "markdown",
      "source": [
        "For k=7 we have obtain the lowest MSE value"
      ],
      "metadata": {
        "id": "RXPL6LAg_DnQ"
      }
    },
    {
      "cell_type": "code",
      "execution_count": null,
      "metadata": {
        "cell_id": "4fd7f27b-54de-42ae-9da3-26bed05db487",
        "scrolled": true,
        "id": "HDuMGln3mjAz",
        "colab": {
          "base_uri": "https://localhost:8080/"
        },
        "outputId": "4aa61f38-6540-45dc-9a5d-7ba2cba7a915"
      },
      "outputs": [
        {
          "output_type": "execute_result",
          "data": {
            "text/plain": [
              "0.859330893516606"
            ]
          },
          "metadata": {},
          "execution_count": 153
        }
      ],
      "source": [
        "##Compute the R-squared for the best model\n",
        "# your code here\n",
        "r2_score_value[4]"
      ]
    },
    {
      "cell_type": "markdown",
      "metadata": {
        "cell_id": "eaed1594-de29-4e01-aae5-b6a7f76f6303",
        "tags": [],
        "id": "9e2br8tCmjA1"
      },
      "source": [
        "### 2.2"
      ]
    },
    {
      "cell_type": "markdown",
      "metadata": {
        "cell_id": "336b5a99-d756-4d0a-9c9a-d129d84fc73d",
        "id": "BQoKQlOt653H"
      },
      "source": [
        "**Your answer here**\n",
        "\n",
        "**a) How does the value of $k$ affect the fitted model?**\n",
        "<br />\n",
        "\n",
        "\n",
        "**b) If $n$ is the number of observations in the training set, what can you say about a k-NN regression model that uses $k = n$? **\n",
        "<br />\n",
        "\n",
        "**c) Do the training and test $MSE$ plots exhibit different trends?  Explain how the value of $k$ influences the training and test $MSE$ values.**\n",
        "<br />\n",
        "\n",
        "**d) Run the same code by changing the random seed during the train-test split. Do you always get the same answer? If not, why?**\n",
        "\n"
      ]
    },
    {
      "cell_type": "markdown",
      "metadata": {
        "cell_id": "0df4f7c4-d116-437d-82e9-31e392449549",
        "id": "fTVuBYybmZUU"
      },
      "source": [
        "<div class=\"alert alert-block alert-danger\" style=\"color:black;background-color:#F6E6E2\">\n",
        "<b> Question 3:  Simple Linear Regression   </b>\n",
        "<br /><br />\n",
        "**3.1** We will now fit our data using a linear regression model. Choose the same **predictor** and **response** variables used to model kNN regression.\n",
        "<br /><br />\n",
        "- You will use the same 75% training and 25% testing split of the data, using the same random_state = 109. \n",
        "<br />\n",
        "- Run a Linear Regression model.\n",
        "<br />\n",
        "- Report the slope/coefficient and intercept values for the fitted linear model.\n",
        "<br />\n",
        "- Report the $MSE$ for the training and test sets and the $R^2$ from the test set.\n",
        "<br />\n",
        "- Plot the **residuals** $e = y - \\hat{y}$ of the model on the training set as a function of the response variable. Draw a horizontal line denoting the zero residual value on the Y-axis. Discuss the shape of the plot and what it shows for the quality of the model.\n",
        "<br /><br />\n",
        "**Note:** Use the `sklearn` module for linear regression. This module has built-in functions to summarize the results of regression and produce residual plots. Create a `Linear Regression` model, use the `fit` method in the instance for fitting a linear regression model, and use the `predict` method to make predictions. As previously, you may use the `mean_squared_error` function to compute $MSE$.\n",
        "<br /><br />\n",
        "**3.2** Discuss your results by answering the following questions.  \n",
        "<br />\n",
        "- How does the test $MSE$ score compare with the best test $MSE$ value obtained with k-NN regression? \n",
        "<br />\n",
        "- What does the sign of the slope of the fitted linear model convey about the data? \n",
        "<br />\n",
        "- Based on the residual plot that you made, discuss whether or not the assumption of linearity is valid for this data.\n",
        "<br /><br />\n",
        "    </div>\n"
      ]
    },
    {
      "cell_type": "markdown",
      "metadata": {
        "id": "Ji7x_tS6mjBA"
      },
      "source": [
        "### Solutions"
      ]
    },
    {
      "cell_type": "markdown",
      "metadata": {
        "id": "-uTNJSsSmKx8"
      },
      "source": [
        "### 3\n",
        "**Predict the selling price**"
      ]
    },
    {
      "cell_type": "markdown",
      "metadata": {
        "cell_id": "eaed1594-de29-4e01-aae5-b6a7f76f6303",
        "tags": [],
        "id": "d9bc_wjVmjBB"
      },
      "source": [
        "### 3.1\n",
        "**Predict the selling price **"
      ]
    },
    {
      "cell_type": "code",
      "execution_count": null,
      "metadata": {
        "cell_id": "c1fe1ac5-8d71-474f-99fd-728403e1769a",
        "collapsed": true,
        "id": "kFK9EZbRmXPg"
      },
      "outputs": [],
      "source": [
        "# your code here\n",
        "from sklearn.linear_model import LinearRegression\n",
        "\n",
        "train_x, test_x, train_y, test_y = train_test_split(x, y, train_size=0.75, random_state=109)\n",
        "reg = LinearRegression().fit(train_x, train_y)\n",
        "y_pred = reg.predict(test_x)\n",
        "print(\"Coeffiecient is: \",reg.coef_)\n",
        "print(\"Intercept is: \",reg.intercept_)\n",
        "print(\"MSE is\",mean_squared_error(test_y,y_pred))\n",
        "print(\"R2 is \",r2_score(test_y, y_pred))\n",
        "residual = y_pred - test_y\n"
      ]
    },
    {
      "cell_type": "code",
      "source": [
        "sns.regplot(x = y_pred, y = residual, data = None, scatter = True, color = 'blue')"
      ],
      "metadata": {
        "colab": {
          "base_uri": "https://localhost:8080/",
          "height": 285
        },
        "id": "lY48N96hAVnL",
        "outputId": "86b231af-90f3-45a5-b64e-a2aa349d746f"
      },
      "execution_count": null,
      "outputs": [
        {
          "output_type": "execute_result",
          "data": {
            "text/plain": [
              "<matplotlib.axes._subplots.AxesSubplot at 0x7fb56b810090>"
            ]
          },
          "metadata": {},
          "execution_count": 156
        },
        {
          "output_type": "display_data",
          "data": {
            "text/plain": [
              "<Figure size 432x288 with 1 Axes>"
            ],
            "image/png": "[encoded data removed]"
          },
          "metadata": {
            "needs_background": "light"
          }
        }
      ]
    },
    {
      "cell_type": "markdown",
      "metadata": {
        "cell_id": "eaed1594-de29-4e01-aae5-b6a7f76f6303",
        "tags": [],
        "id": "wg_1LD7jmjBE"
      },
      "source": [
        "### 3.2"
      ]
    },
    {
      "cell_type": "markdown",
      "metadata": {
        "id": "fLYzjFYymjBF"
      },
      "source": [
        "**Your answer here**\n",
        "\n",
        "**a) How does the test $MSE$ score compare with the best test $MSE$ value obtained with k-NN regression?**\n",
        "<br />\n",
        "\n",
        "\n",
        "**b) What does the sign of the slope of the fitted linear model convey about the data?  **\n",
        "<br />\n",
        "\n",
        "\n",
        "**c) Based on the residual plot that you made, discuss whether or not the assumption of linearity is valid for this data.\n",
        "<br />**\n",
        "\n"
      ]
    },
    {
      "cell_type": "markdown",
      "metadata": {
        "id": "JESz_GEqmKx_"
      },
      "source": [
        "<div class=\"alert alert-block alert-danger\" style=\"color:black;background-color:#F6E6E2\"><b> Question 4:  Linear Regression with Feature engineering</b>\n",
        "<br /><br />\n",
        "\n",
        "**4.1** Creating a new variable from existing data: percentage depreciation\n",
        "<br />\n",
        "Feature engineering involves transforming data into features that better represent the underlying problem to the predictive models. This results in improved model accuracy on unseen data. \n",
        "<br />\n",
        "Our previous regression model relates the Current selling price to the MRP of the car with the equation:\n",
        "<br /><br />\n",
        "$$CSP = \\beta_0 + \\beta_1*MRP$$\n",
        "<br />\n",
        "However, this linear equation does not incorparate other interesting variables such as the ```year of manufacture```, or the ```kms driven```, which maybe important factors that affect the overall price of the car. \n",
        "<br />\n",
        "Instead of using multi-linear analysis, we can perform some intelligent feature engineering to identify other simple linear relationships within our data.\n",
        "<br />\n",
        "From practical experience, we know that the percentage drop of a car's price is proportional to the age of the car ([more on car depreciation here](https://www.finder.com/what-is-car-depreciation)). \n",
        "<br />\n",
        "Hence, it makes sense to investigate this variable seperately and try to identify possible relationships with other variables.  \n",
        "<br />\n",
        "Define the percentage depreciation of the Current selling price to the MRP as follows:\n",
        "<br /><br />\n",
        "$$\\textrm{Percentage of the Selling Price}=perc =\\frac{MRP - Selling Price}{MRP}$$\n",
        "    \n",
        "<br /><br />\n",
        "**4.2** Exploratory Data Analysis\n",
        "<br /><br />\n",
        "For this section, we will consider `perc` to be our intermediate response variable. To understand the relationship between `perc` and our predictor variables we will perform EDA.\n",
        "<br /><br />\n",
        "Answer the following questions by plotting graphs.\n",
        "<br /><br />\n",
        "a) It is seen previously that there is a relationship between `Year` and `Current Selling Price`. Is the relationship between `Year` and `perc` the same. If not, how has it changed and why do you think so?\n",
        "<br />\n",
        "b) Is the trend between the `MRP` and `perc` the same as that between `MRP` and `Current Selling Price`?\n",
        "<br />\n",
        "c) Does there seem to be a relationship between `Kms_Driven` and `perc` ? \n",
        "<br />\n",
        "d) Which is the best predictor to predict `perc`, if there is one? Is it the same as that of `Current Selling price` or has it changed?\n",
        "<br /><br />\n",
        "**4.3** Perform additional EDA \n",
        "<br /><br />\n",
        "Feel free to use other plots and statistics to find the best predictor and/or understand the relationship between variables. One example is given below. It is a plot of `Current Selling Price` vs `Year` that is color coded based on the `Kms_Driven`.\n",
        "<br /><br />\n",
        "**4.4** Fitting a Linear Regression model\n",
        "<br /><br />\n",
        "Based on the previous EDA choose appropriate **feature** variable(s) and **response** variable.\n",
        "<br /><br />\n",
        "- Again, split the data into training data of 75% and testing data of 25%.\n",
        "<br />\n",
        "- Fit a Linear Regression model for each of the predictors.\n",
        "<br />\n",
        "- Predict the model for the train and test data.\n",
        "<br />\n",
        "- Plot a graph with the test data with predictor variable on the *x* axis and `perc` on the *y* axis. Also plot the fit curve. Ensure you use the correct labels and show the legend.\n",
        "<br />\n",
        "- Report the $MSE$ score from the training and test sets.\n",
        "<br />\n",
        "- Find the best model i.e. the best predictor based on the $MSE$ of each model.\n",
        "<br /><br />\n",
        "\n",
        "**4.5** Predicting The Current Selling Price using ```perc``` \n",
        "<br /><br />\n",
        "After performing the above analysis, answer briefly as to why are we getting such a dramatic increase in the R2 score?\n",
        "    <br /><br />\n",
        " </div>"
      ]
    },
    {
      "cell_type": "markdown",
      "metadata": {
        "id": "jE6HyNGgmKyA"
      },
      "source": [
        "## Solutions"
      ]
    },
    {
      "cell_type": "markdown",
      "metadata": {
        "id": "5XyQUIvfmKyA"
      },
      "source": [
        "### 4.1"
      ]
    },
    {
      "cell_type": "code",
      "execution_count": null,
      "metadata": {
        "scrolled": true,
        "id": "hM6JF7srmKyA",
        "colab": {
          "base_uri": "https://localhost:8080/"
        },
        "outputId": "67517a20-c25e-408b-9239-5c1330629ed5"
      },
      "outputs": [
        {
          "output_type": "execute_result",
          "data": {
            "text/plain": [
              "0      0.079\n",
              "1      0.744\n",
              "2      0.705\n",
              "3      0.724\n",
              "4      0.649\n",
              "       ...  \n",
              "596    0.016\n",
              "597    0.482\n",
              "598    0.793\n",
              "599    0.114\n",
              "600    0.410\n",
              "Name: perc, Length: 601, dtype: float64"
            ]
          },
          "metadata": {},
          "execution_count": 157
        }
      ],
      "source": [
        "#Create a new column perc and add to the dataframe\n",
        "# your code here\n",
        "perc = []\n",
        "for i in range(len(df)):\n",
        "  value = (df.iat[i,2] - df.iat[i,1]) / df.iat[i,2]\n",
        "  perc.append(value)\n",
        "df['perc'] = perc\n",
        "\n",
        "#Creating a new column perc\n",
        "df['perc']\n"
      ]
    },
    {
      "cell_type": "markdown",
      "metadata": {
        "id": "wq36TdiXmKyB"
      },
      "source": [
        "### 4.2"
      ]
    },
    {
      "cell_type": "code",
      "execution_count": null,
      "metadata": {
        "id": "87OipivbmKyB",
        "colab": {
          "base_uri": "https://localhost:8080/",
          "height": 304
        },
        "outputId": "453475ff-5383-4c0f-a75d-08720fb85b7f"
      },
      "outputs": [
        {
          "output_type": "execute_result",
          "data": {
            "text/plain": [
              "<matplotlib.axes._subplots.AxesSubplot at 0x7fb56b4de090>"
            ]
          },
          "metadata": {},
          "execution_count": 158
        },
        {
          "output_type": "display_data",
          "data": {
            "text/plain": [
              "<Figure size 432x288 with 1 Axes>"
            ],
            "image/png": "[encoded data removed]"
          },
          "metadata": {
            "needs_background": "light"
          }
        }
      ],
      "source": [
        "# your code here\n",
        "df.plot.scatter(x = 'Year', y = 'perc')"
      ]
    },
    {
      "cell_type": "markdown",
      "metadata": {
        "id": "NNF5QDXRmKyC"
      },
      "source": [
        "**Your answer here**\n"
      ]
    },
    {
      "cell_type": "code",
      "execution_count": null,
      "metadata": {
        "id": "f8eRMhelmKyC",
        "colab": {
          "base_uri": "https://localhost:8080/",
          "height": 304
        },
        "outputId": "ff17a7b6-56ab-465a-9c27-1da53d9ee042"
      },
      "outputs": [
        {
          "output_type": "execute_result",
          "data": {
            "text/plain": [
              "<matplotlib.axes._subplots.AxesSubplot at 0x7fb56ba43510>"
            ]
          },
          "metadata": {},
          "execution_count": 159
        },
        {
          "output_type": "display_data",
          "data": {
            "text/plain": [
              "<Figure size 432x288 with 1 Axes>"
            ],
            "image/png": "[encoded data removed]"
          },
          "metadata": {
            "needs_background": "light"
          }
        }
      ],
      "source": [
        "# your code here\n",
        "df.plot.scatter(x = 'MRP', y = 'perc')"
      ]
    },
    {
      "cell_type": "markdown",
      "metadata": {
        "id": "0oiH9QWbmKyD"
      },
      "source": [
        "**Your answer here**\n"
      ]
    },
    {
      "cell_type": "code",
      "execution_count": null,
      "metadata": {
        "id": "UIjVM2_BmKyD",
        "colab": {
          "base_uri": "https://localhost:8080/",
          "height": 304
        },
        "outputId": "693159c7-9dba-4530-b09a-5d7b6c32e310"
      },
      "outputs": [
        {
          "output_type": "execute_result",
          "data": {
            "text/plain": [
              "<matplotlib.axes._subplots.AxesSubplot at 0x7fb56bf3a350>"
            ]
          },
          "metadata": {},
          "execution_count": 160
        },
        {
          "output_type": "display_data",
          "data": {
            "text/plain": [
              "<Figure size 432x288 with 1 Axes>"
            ],
            "image/png": "[encoded data removed]"
          },
          "metadata": {
            "needs_background": "light"
          }
        }
      ],
      "source": [
        "# your code here\n",
        "df.plot.scatter(x = 'Kms_Driven', y = 'perc')"
      ]
    },
    {
      "cell_type": "markdown",
      "metadata": {
        "id": "vpt91K4XmKyE"
      },
      "source": [
        "**Your answer here**\n"
      ]
    },
    {
      "cell_type": "markdown",
      "metadata": {
        "id": "99HsK2cimKyE"
      },
      "source": [
        "### 4.3"
      ]
    },
    {
      "cell_type": "code",
      "execution_count": null,
      "metadata": {
        "id": "VPVI8xBZmKyE",
        "colab": {
          "base_uri": "https://localhost:8080/",
          "height": 206
        },
        "outputId": "573fda7a-6923-4b1f-aae1-1ce74d97d877"
      },
      "outputs": [
        {
          "output_type": "execute_result",
          "data": {
            "text/plain": [
              "                        Year  Current_Selling_Price    MRP  Kms_Driven   perc\n",
              "Year                   1.000              2.503e-01 -0.033  -6.441e-01 -0.846\n",
              "Current_Selling_Price  0.250              1.000e+00  0.888   6.208e-04 -0.239\n",
              "MRP                   -0.033              8.878e-01  1.000   2.423e-01  0.105\n",
              "Kms_Driven            -0.644              6.208e-04  0.242   1.000e+00  0.654\n",
              "perc                  -0.846             -2.394e-01  0.105   6.541e-01  1.000"
            ],
            "text/html": [
              "\n",
              "  <div id=\"df-8c127312-4a86-4536-ad6b-7594e6aaf39e\">\n",
              "    <div class=\"colab-df-container\">\n",
              "      <div>\n",
              "<style scoped>\n",
              "    .dataframe tbody tr th:only-of-type {\n",
              "        vertical-align: middle;\n",
              "    }\n",
              "\n",
              "    .dataframe tbody tr th {\n",
              "        vertical-align: top;\n",
              "    }\n",
              "\n",
              "    .dataframe thead th {\n",
              "        text-align: right;\n",
              "    }\n",
              "</style>\n",
              "<table border=\"1\" class=\"dataframe\">\n",
              "  <thead>\n",
              "    <tr style=\"text-align: right;\">\n",
              "      <th></th>\n",
              "      <th>Year</th>\n",
              "      <th>Current_Selling_Price</th>\n",
              "      <th>MRP</th>\n",
              "      <th>Kms_Driven</th>\n",
              "      <th>perc</th>\n",
              "    </tr>\n",
              "  </thead>\n",
              "  <tbody>\n",
              "    <tr>\n",
              "      <th>Year</th>\n",
              "      <td>1.000</td>\n",
              "      <td>2.503e-01</td>\n",
              "      <td>-0.033</td>\n",
              "      <td>-6.441e-01</td>\n",
              "      <td>-0.846</td>\n",
              "    </tr>\n",
              "    <tr>\n",
              "      <th>Current_Selling_Price</th>\n",
              "      <td>0.250</td>\n",
              "      <td>1.000e+00</td>\n",
              "      <td>0.888</td>\n",
              "      <td>6.208e-04</td>\n",
              "      <td>-0.239</td>\n",
              "    </tr>\n",
              "    <tr>\n",
              "      <th>MRP</th>\n",
              "      <td>-0.033</td>\n",
              "      <td>8.878e-01</td>\n",
              "      <td>1.000</td>\n",
              "      <td>2.423e-01</td>\n",
              "      <td>0.105</td>\n",
              "    </tr>\n",
              "    <tr>\n",
              "      <th>Kms_Driven</th>\n",
              "      <td>-0.644</td>\n",
              "      <td>6.208e-04</td>\n",
              "      <td>0.242</td>\n",
              "      <td>1.000e+00</td>\n",
              "      <td>0.654</td>\n",
              "    </tr>\n",
              "    <tr>\n",
              "      <th>perc</th>\n",
              "      <td>-0.846</td>\n",
              "      <td>-2.394e-01</td>\n",
              "      <td>0.105</td>\n",
              "      <td>6.541e-01</td>\n",
              "      <td>1.000</td>\n",
              "    </tr>\n",
              "  </tbody>\n",
              "</table>\n",
              "</div>\n",
              "      <button class=\"colab-df-convert\" onclick=\"convertToInteractive('df-8c127312-4a86-4536-ad6b-7594e6aaf39e')\"\n",
              "              title=\"Convert this dataframe to an interactive table.\"\n",
              "              style=\"display:none;\">\n",
              "        \n",
              "  <svg xmlns=\"http://www.w3.org/2000/svg\" height=\"24px\"viewBox=\"0 0 24 24\"\n",
              "       width=\"24px\">\n",
              "    <path d=\"M0 0h24v24H0V0z\" fill=\"none\"/>\n",
              "    <path d=\"M18.56 5.44l.94 2.06.94-2.06 2.06-.94-2.06-.94-.94-2.06-.94 2.06-2.06.94zm-11 1L8.5 8.5l.94-2.06 2.06-.94-2.06-.94L8.5 2.5l-.94 2.06-2.06.94zm10 10l.94 2.06.94-2.06 2.06-.94-2.06-.94-.94-2.06-.94 2.06-2.06.94z\"/><path d=\"M17.41 7.96l-1.37-1.37c-.4-.4-.92-.59-1.43-.59-.52 0-1.04.2-1.43.59L10.3 9.45l-7.72 7.72c-.78.78-.78 2.05 0 2.83L4 21.41c.39.39.9.59 1.41.59.51 0 1.02-.2 1.41-.59l7.78-7.78 2.81-2.81c.8-.78.8-2.07 0-2.86zM5.41 20L4 18.59l7.72-7.72 1.47 1.35L5.41 20z\"/>\n",
              "  </svg>\n",
              "      </button>\n",
              "      \n",
              "  <style>\n",
              "    .colab-df-container {\n",
              "      display:flex;\n",
              "      flex-wrap:wrap;\n",
              "      gap: 12px;\n",
              "    }\n",
              "\n",
              "    .colab-df-convert {\n",
              "      background-color: #E8F0FE;\n",
              "      border: none;\n",
              "      border-radius: 50%;\n",
              "      cursor: pointer;\n",
              "      display: none;\n",
              "      fill: #1967D2;\n",
              "      height: 32px;\n",
              "      padding: 0 0 0 0;\n",
              "      width: 32px;\n",
              "    }\n",
              "\n",
              "    .colab-df-convert:hover {\n",
              "      background-color: #E2EBFA;\n",
              "      box-shadow: 0px 1px 2px rgba(60, 64, 67, 0.3), 0px 1px 3px 1px rgba(60, 64, 67, 0.15);\n",
              "      fill: #174EA6;\n",
              "    }\n",
              "\n",
              "    [theme=dark] .colab-df-convert {\n",
              "      background-color: #3B4455;\n",
              "      fill: #D2E3FC;\n",
              "    }\n",
              "\n",
              "    [theme=dark] .colab-df-convert:hover {\n",
              "      background-color: #434B5C;\n",
              "      box-shadow: 0px 1px 3px 1px rgba(0, 0, 0, 0.15);\n",
              "      filter: drop-shadow(0px 1px 2px rgba(0, 0, 0, 0.3));\n",
              "      fill: #FFFFFF;\n",
              "    }\n",
              "  </style>\n",
              "\n",
              "      <script>\n",
              "        const buttonEl =\n",
              "          document.querySelector('#df-8c127312-4a86-4536-ad6b-7594e6aaf39e button.colab-df-convert');\n",
              "        buttonEl.style.display =\n",
              "          google.colab.kernel.accessAllowed ? 'block' : 'none';\n",
              "\n",
              "        async function convertToInteractive(key) {\n",
              "          const element = document.querySelector('#df-8c127312-4a86-4536-ad6b-7594e6aaf39e');\n",
              "          const dataTable =\n",
              "            await google.colab.kernel.invokeFunction('convertToInteractive',\n",
              "                                                     [key], {});\n",
              "          if (!dataTable) return;\n",
              "\n",
              "          const docLinkHtml = 'Like what you see? Visit the ' +\n",
              "            '<a target=\"_blank\" href=https://colab.research.google.com/notebooks/data_table.ipynb>data table notebook</a>'\n",
              "            + ' to learn more about interactive tables.';\n",
              "          element.innerHTML = '';\n",
              "          dataTable['output_type'] = 'display_data';\n",
              "          await google.colab.output.renderOutput(dataTable, element);\n",
              "          const docLink = document.createElement('div');\n",
              "          docLink.innerHTML = docLinkHtml;\n",
              "          element.appendChild(docLink);\n",
              "        }\n",
              "      </script>\n",
              "    </div>\n",
              "  </div>\n",
              "  "
            ]
          },
          "metadata": {},
          "execution_count": 161
        }
      ],
      "source": [
        "#your code here\n",
        "df.corr()"
      ]
    },
    {
      "cell_type": "markdown",
      "metadata": {
        "id": "DFGWNHpwmKyF"
      },
      "source": [
        "### 4.4"
      ]
    },
    {
      "cell_type": "code",
      "execution_count": null,
      "metadata": {
        "id": "Vjy-T0EQmKyF",
        "colab": {
          "base_uri": "https://localhost:8080/",
          "height": 322
        },
        "outputId": "3437be82-3f12-4bd2-8010-9b0519a69627"
      },
      "outputs": [
        {
          "output_type": "stream",
          "name": "stdout",
          "text": [
            "MSE is:  6.484209655184874\n",
            "R2 is:  -0.012938409322341471\n"
          ]
        },
        {
          "output_type": "execute_result",
          "data": {
            "text/plain": [
              "<matplotlib.legend.Legend at 0x7fb56c926ad0>"
            ]
          },
          "metadata": {},
          "execution_count": 162
        },
        {
          "output_type": "display_data",
          "data": {
            "text/plain": [
              "<Figure size 432x288 with 1 Axes>"
            ],
            "image/png": "[encoded data removed]"
          },
          "metadata": {
            "needs_background": "light"
          }
        }
      ],
      "source": [
        "# Linear Regression using Year as the reponse variable\n",
        "# your code here\n",
        "# Linear Regression using Year as the reponse variable\n",
        "# your code here\n",
        "\n",
        "x = df['MRP'].values.reshape(-1,1)\n",
        "train_x, test_x, train_y, test_y = train_test_split(x, df.Year, train_size=0.75, random_state=109)\n",
        "reg = LinearRegression().fit(train_x, train_y)\n",
        "y_pred = reg.predict(test_x)\n",
        "print(\"MSE is: \",mean_squared_error(test_y,y_pred))\n",
        "print(\"R2 is: \",r2_score(test_y, y_pred))\n",
        "plt.scatter(test_x, test_y,label='Training')\n",
        "plt.scatter(test_x, y_pred,label='Predicted')\n",
        "plt.legend(loc='upper right')"
      ]
    },
    {
      "cell_type": "code",
      "execution_count": null,
      "metadata": {
        "id": "HIHxQiBmmKyG",
        "colab": {
          "base_uri": "https://localhost:8080/",
          "height": 322
        },
        "outputId": "97eab9c1-82a1-410f-af6a-6d3fb7a3ac84"
      },
      "outputs": [
        {
          "output_type": "stream",
          "name": "stdout",
          "text": [
            "MSE is:  29.663857354859342\n",
            "R2 is:  0.07937633244640474\n"
          ]
        },
        {
          "output_type": "execute_result",
          "data": {
            "text/plain": [
              "<matplotlib.legend.Legend at 0x7fb56d1ea990>"
            ]
          },
          "metadata": {},
          "execution_count": 163
        },
        {
          "output_type": "display_data",
          "data": {
            "text/plain": [
              "<Figure size 432x288 with 1 Axes>"
            ],
            "image/png": "[encoded data removed]"
          },
          "metadata": {
            "needs_background": "light"
          }
        }
      ],
      "source": [
        "# Linear Regression using MRP as the reponse variable\n",
        "# your code here\n",
        "x = df['Kms_Driven'].values.reshape(-1,1)\n",
        "train_x, test_x, train_y, test_y = train_test_split(x, df.MRP, train_size=0.75, random_state=109)\n",
        "reg = LinearRegression().fit(train_x, train_y)\n",
        "y_pred = reg.predict(test_x)\n",
        "print(\"MSE is: \",mean_squared_error(test_y,y_pred))\n",
        "print(\"R2 is: \",r2_score(test_y, y_pred))\n",
        "plt.scatter(test_x, test_y,label='Training')\n",
        "plt.scatter(test_x, y_pred,label='Predicted')\n",
        "plt.legend(loc='upper right')"
      ]
    },
    {
      "cell_type": "code",
      "execution_count": null,
      "metadata": {
        "id": "RNjvtPxGmKyH",
        "colab": {
          "base_uri": "https://localhost:8080/",
          "height": 322
        },
        "outputId": "5644fc2d-1e30-4666-d9e0-c9ae8a46e723"
      },
      "outputs": [
        {
          "output_type": "stream",
          "name": "stdout",
          "text": [
            "MSE is:  310720274.5203311\n",
            "R2 is:  0.38904809867214296\n"
          ]
        },
        {
          "output_type": "execute_result",
          "data": {
            "text/plain": [
              "<matplotlib.legend.Legend at 0x7fb56e906510>"
            ]
          },
          "metadata": {},
          "execution_count": 164
        },
        {
          "output_type": "display_data",
          "data": {
            "text/plain": [
              "<Figure size 432x288 with 1 Axes>"
            ],
            "image/png": "[encoded data removed]"
          },
          "metadata": {
            "needs_background": "light"
          }
        }
      ],
      "source": [
        "# Linear Regression using KMs Driven as the reponse variable\n",
        "# your code here\n",
        "x = df['Year'].values.reshape(-1,1)\n",
        "train_x, test_x, train_y, test_y = train_test_split(x, df.Kms_Driven, train_size=0.75, random_state=109)\n",
        "reg = LinearRegression().fit(train_x, train_y)\n",
        "y_pred = reg.predict(test_x)\n",
        "print(\"MSE is: \",mean_squared_error(test_y,y_pred))\n",
        "print(\"R2 is: \",r2_score(test_y, y_pred))\n",
        "plt.scatter(test_x, test_y,label='Training')\n",
        "plt.scatter(test_x, y_pred,label='Predicted')\n",
        "# plt.set_title(K)\n",
        "plt.legend(loc='upper right')"
      ]
    },
    {
      "cell_type": "markdown",
      "metadata": {
        "id": "l7KKpgIemKyK"
      },
      "source": [
        "**Your answer here**\n"
      ]
    },
    {
      "cell_type": "markdown",
      "metadata": {
        "id": "0EKt-6LkmKyL"
      },
      "source": [
        "### 4.5"
      ]
    },
    {
      "cell_type": "code",
      "execution_count": null,
      "metadata": {
        "id": "UPt4__1fmKyL",
        "colab": {
          "base_uri": "https://localhost:8080/",
          "height": 322
        },
        "outputId": "f8105ff8-929c-4248-f1bc-b7a11dec74fa"
      },
      "outputs": [
        {
          "output_type": "stream",
          "name": "stdout",
          "text": [
            "MSE is:  6.484209655184874\n",
            "R2 is:  -0.012938409322341471\n"
          ]
        },
        {
          "output_type": "execute_result",
          "data": {
            "text/plain": [
              "<matplotlib.legend.Legend at 0x7fb56e917dd0>"
            ]
          },
          "metadata": {},
          "execution_count": 165
        },
        {
          "output_type": "display_data",
          "data": {
            "text/plain": [
              "<Figure size 432x288 with 1 Axes>"
            ],
            "image/png": "[encoded data removed]"
          },
          "metadata": {
            "needs_background": "light"
          }
        }
      ],
      "source": [
        "#Linear Regression using Year as the reponse variable\n",
        "# your code here\n",
        "x = df['MRP'].values.reshape(-1,1)\n",
        "train_x, test_x, train_y, test_y = train_test_split(x, df.Year, train_size=0.75, random_state=109)\n",
        "reg = LinearRegression().fit(train_x, train_y)\n",
        "y_pred = reg.predict(test_x)\n",
        "print(\"MSE is: \",mean_squared_error(test_y,y_pred))\n",
        "print(\"R2 is: \",r2_score(test_y, y_pred))\n",
        "plt.scatter(test_x, test_y,label='Training')\n",
        "plt.scatter(test_x, y_pred,label='Predicted')\n",
        "plt.legend(loc='upper right')\n"
      ]
    },
    {
      "cell_type": "markdown",
      "metadata": {
        "id": "4gtbfrBNmKyM"
      },
      "source": [
        "**Your answer here**\n"
      ]
    },
    {
      "cell_type": "markdown",
      "metadata": {
        "id": "ejqeRD5GmKyM"
      },
      "source": [
        "<div class=\"alert alert-block alert-danger\" style=\"color:black;background-color:#F6E6E2\">\n",
        "<h2 style=\"color:black;background-color:#F6E6E2\"> Part Β :  Multi-Linear Regression</h2><br />\n",
        "\n",
        "\n",
        "### Problem Description: \n",
        "\n",
        "Analysis of publically available profiles on **simplymarry** to learn more about the biases, income disparity & other interesting trends in India. \n",
        "\n",
        "#### Dataset\n",
        "\n",
        "The dataset was aggregated from the **simplymarry** site.\n",
        "\n",
        "All the attributes refer to traits and preferences of the person looking for a spouse. \n",
        "\n",
        "- **age** - Age of person looking for a spouse\n",
        "- **gender** - Female:0, Male:1 \n",
        "- **height** - Height in inches\n",
        "- **bmi** - BMI calculated based on height and weight\n",
        "- **eating** - {'Doesn't Matter':0, 'Jain': 1, 'Vegetarian': 2, 'Vegetarian With Eggs': 3, 'Non Vegetarian': 4}\n",
        "- **family_type** - ('Doesn't Matter': 0, 'Others':3, 'Nuclear': 1, 'Joint family both parents': 2, 'Joint family only mother':2, 'Joint family father mother and brothers sisters':2, 'Joint family single parent brothers and or sisters':2, 'Joint family only father': 2)\n",
        "- **status** - If social status matters to the person looking for a spouse: {'Doesn't Matter': 0, 'Middle Class': 1, 'Upper Middle Class': 2, 'High Class': 3, 'Rich / Affluent': 4}\n",
        "- **manglik** - {'No': 0, 'Yes': 1, 'Do Not Know': 2} ([More on this feature](https://en.wikipedia.org/wiki/Mangala_Dosha))\n",
        "- **drinking** - {'Doesn't Matter':0, 'No': 1, 'Occasionally': 2, 'Yes': 3}\n",
        "- **complexion** - {'Very Fair ': 1, 'Fair ': 2, 'Wheatish Medium ': 4, 'Wheatish ':3, 'Dark':5}\n",
        "- **body** - {'Slim': 1, 'Average': 2, 'Heavy': 3, 'Athletic': 4}\n",
        "- **education** - {'High School':0, 'Some college':1,'Undergrad':2, 'Grad':3, 'Doctorate':4}\n",
        "- **city** - ('International': 1, 'Mumbai': 2, 'Delhi':3, 'Kolkata':4,'Bengaluru':5, 'Chennai':6, 'Hyderabad':7, 'Pune':8, 'Ahmedabad':9,'Surat':10, 'Vishakapatnam':11, 'Others':12)\n",
        "- **income** - {Annual income in dollars}\n",
        "\n",
        "*source: Harvard IACS*\n",
        "\n",
        "#### Sensitive attributes in the data\n",
        "\n",
        "It is thought that users are mostly sincere when stating their preferences about their desired partner, and are unlikely to hide any deeply held cultural or sociological biases in order to be perceived as being politically correct. This might take care of the problem with surveys where responses touching on social norms are notorious for self-report bias.\n",
        "\n",
        "This is a dataset designed to make you think about issues of bias and social issues in datasets. We hope that you will be able to derive insights into the above mentioned sociological biases. The data could potentially provide answers to interesting questions with associated policy ramifications, such as do these biases reduce among more educated users, or more urban users?  "
      ]
    },
    {
      "cell_type": "code",
      "execution_count": null,
      "metadata": {
        "id": "99OD82HpmKyO",
        "colab": {
          "base_uri": "https://localhost:8080/",
          "height": 270
        },
        "outputId": "b8128dcc-651f-482a-bd45-61df8e08cd60"
      },
      "outputs": [
        {
          "output_type": "execute_result",
          "data": {
            "text/plain": [
              "   age  gender  height  kgs     bmi  eating  status  marital_status  \\\n",
              "0   25       1      62   50  20.161       4       1               1   \n",
              "1   28       0      66   62  22.062       2       2               1   \n",
              "2   30       1      69   72  23.441       2       1               1   \n",
              "3   34       0      63   58  22.651       4       1               4   \n",
              "4   30       0      62   72  29.032       2       2               1   \n",
              "\n",
              "   family_type  manglik  horoscope  drinking  smoking  values  complexion  \\\n",
              "0            2        0          1         1        1       2           2   \n",
              "1            2        2          1         1        1       2           2   \n",
              "2            1        1          1         1        1       5           2   \n",
              "3            1        0          1         1        1       2           2   \n",
              "4            1        0          1         1        1       3           1   \n",
              "\n",
              "   body  caste_imp  employed  living  education  income  city  \n",
              "0     1          1         4       1          0    2500    12  \n",
              "1     2          1         4       1          2    7500     8  \n",
              "2     1          0         5       0          2    7500     8  \n",
              "3     2          0         4       1          2    4167    10  \n",
              "4     2          0         5       1          3   20833     6  "
            ],
            "text/html": [
              "\n",
              "  <div id=\"df-2946a8b2-b052-4e83-abd7-e80b6a9d6c59\">\n",
              "    <div class=\"colab-df-container\">\n",
              "      <div>\n",
              "<style scoped>\n",
              "    .dataframe tbody tr th:only-of-type {\n",
              "        vertical-align: middle;\n",
              "    }\n",
              "\n",
              "    .dataframe tbody tr th {\n",
              "        vertical-align: top;\n",
              "    }\n",
              "\n",
              "    .dataframe thead th {\n",
              "        text-align: right;\n",
              "    }\n",
              "</style>\n",
              "<table border=\"1\" class=\"dataframe\">\n",
              "  <thead>\n",
              "    <tr style=\"text-align: right;\">\n",
              "      <th></th>\n",
              "      <th>age</th>\n",
              "      <th>gender</th>\n",
              "      <th>height</th>\n",
              "      <th>kgs</th>\n",
              "      <th>bmi</th>\n",
              "      <th>eating</th>\n",
              "      <th>status</th>\n",
              "      <th>marital_status</th>\n",
              "      <th>family_type</th>\n",
              "      <th>manglik</th>\n",
              "      <th>horoscope</th>\n",
              "      <th>drinking</th>\n",
              "      <th>smoking</th>\n",
              "      <th>values</th>\n",
              "      <th>complexion</th>\n",
              "      <th>body</th>\n",
              "      <th>caste_imp</th>\n",
              "      <th>employed</th>\n",
              "      <th>living</th>\n",
              "      <th>education</th>\n",
              "      <th>income</th>\n",
              "      <th>city</th>\n",
              "    </tr>\n",
              "  </thead>\n",
              "  <tbody>\n",
              "    <tr>\n",
              "      <th>0</th>\n",
              "      <td>25</td>\n",
              "      <td>1</td>\n",
              "      <td>62</td>\n",
              "      <td>50</td>\n",
              "      <td>20.161</td>\n",
              "      <td>4</td>\n",
              "      <td>1</td>\n",
              "      <td>1</td>\n",
              "      <td>2</td>\n",
              "      <td>0</td>\n",
              "      <td>1</td>\n",
              "      <td>1</td>\n",
              "      <td>1</td>\n",
              "      <td>2</td>\n",
              "      <td>2</td>\n",
              "      <td>1</td>\n",
              "      <td>1</td>\n",
              "      <td>4</td>\n",
              "      <td>1</td>\n",
              "      <td>0</td>\n",
              "      <td>2500</td>\n",
              "      <td>12</td>\n",
              "    </tr>\n",
              "    <tr>\n",
              "      <th>1</th>\n",
              "      <td>28</td>\n",
              "      <td>0</td>\n",
              "      <td>66</td>\n",
              "      <td>62</td>\n",
              "      <td>22.062</td>\n",
              "      <td>2</td>\n",
              "      <td>2</td>\n",
              "      <td>1</td>\n",
              "      <td>2</td>\n",
              "      <td>2</td>\n",
              "      <td>1</td>\n",
              "      <td>1</td>\n",
              "      <td>1</td>\n",
              "      <td>2</td>\n",
              "      <td>2</td>\n",
              "      <td>2</td>\n",
              "      <td>1</td>\n",
              "      <td>4</td>\n",
              "      <td>1</td>\n",
              "      <td>2</td>\n",
              "      <td>7500</td>\n",
              "      <td>8</td>\n",
              "    </tr>\n",
              "    <tr>\n",
              "      <th>2</th>\n",
              "      <td>30</td>\n",
              "      <td>1</td>\n",
              "      <td>69</td>\n",
              "      <td>72</td>\n",
              "      <td>23.441</td>\n",
              "      <td>2</td>\n",
              "      <td>1</td>\n",
              "      <td>1</td>\n",
              "      <td>1</td>\n",
              "      <td>1</td>\n",
              "      <td>1</td>\n",
              "      <td>1</td>\n",
              "      <td>1</td>\n",
              "      <td>5</td>\n",
              "      <td>2</td>\n",
              "      <td>1</td>\n",
              "      <td>0</td>\n",
              "      <td>5</td>\n",
              "      <td>0</td>\n",
              "      <td>2</td>\n",
              "      <td>7500</td>\n",
              "      <td>8</td>\n",
              "    </tr>\n",
              "    <tr>\n",
              "      <th>3</th>\n",
              "      <td>34</td>\n",
              "      <td>0</td>\n",
              "      <td>63</td>\n",
              "      <td>58</td>\n",
              "      <td>22.651</td>\n",
              "      <td>4</td>\n",
              "      <td>1</td>\n",
              "      <td>4</td>\n",
              "      <td>1</td>\n",
              "      <td>0</td>\n",
              "      <td>1</td>\n",
              "      <td>1</td>\n",
              "      <td>1</td>\n",
              "      <td>2</td>\n",
              "      <td>2</td>\n",
              "      <td>2</td>\n",
              "      <td>0</td>\n",
              "      <td>4</td>\n",
              "      <td>1</td>\n",
              "      <td>2</td>\n",
              "      <td>4167</td>\n",
              "      <td>10</td>\n",
              "    </tr>\n",
              "    <tr>\n",
              "      <th>4</th>\n",
              "      <td>30</td>\n",
              "      <td>0</td>\n",
              "      <td>62</td>\n",
              "      <td>72</td>\n",
              "      <td>29.032</td>\n",
              "      <td>2</td>\n",
              "      <td>2</td>\n",
              "      <td>1</td>\n",
              "      <td>1</td>\n",
              "      <td>0</td>\n",
              "      <td>1</td>\n",
              "      <td>1</td>\n",
              "      <td>1</td>\n",
              "      <td>3</td>\n",
              "      <td>1</td>\n",
              "      <td>2</td>\n",
              "      <td>0</td>\n",
              "      <td>5</td>\n",
              "      <td>1</td>\n",
              "      <td>3</td>\n",
              "      <td>20833</td>\n",
              "      <td>6</td>\n",
              "    </tr>\n",
              "  </tbody>\n",
              "</table>\n",
              "</div>\n",
              "      <button class=\"colab-df-convert\" onclick=\"convertToInteractive('df-2946a8b2-b052-4e83-abd7-e80b6a9d6c59')\"\n",
              "              title=\"Convert this dataframe to an interactive table.\"\n",
              "              style=\"display:none;\">\n",
              "        \n",
              "  <svg xmlns=\"http://www.w3.org/2000/svg\" height=\"24px\"viewBox=\"0 0 24 24\"\n",
              "       width=\"24px\">\n",
              "    <path d=\"M0 0h24v24H0V0z\" fill=\"none\"/>\n",
              "    <path d=\"M18.56 5.44l.94 2.06.94-2.06 2.06-.94-2.06-.94-.94-2.06-.94 2.06-2.06.94zm-11 1L8.5 8.5l.94-2.06 2.06-.94-2.06-.94L8.5 2.5l-.94 2.06-2.06.94zm10 10l.94 2.06.94-2.06 2.06-.94-2.06-.94-.94-2.06-.94 2.06-2.06.94z\"/><path d=\"M17.41 7.96l-1.37-1.37c-.4-.4-.92-.59-1.43-.59-.52 0-1.04.2-1.43.59L10.3 9.45l-7.72 7.72c-.78.78-.78 2.05 0 2.83L4 21.41c.39.39.9.59 1.41.59.51 0 1.02-.2 1.41-.59l7.78-7.78 2.81-2.81c.8-.78.8-2.07 0-2.86zM5.41 20L4 18.59l7.72-7.72 1.47 1.35L5.41 20z\"/>\n",
              "  </svg>\n",
              "      </button>\n",
              "      \n",
              "  <style>\n",
              "    .colab-df-container {\n",
              "      display:flex;\n",
              "      flex-wrap:wrap;\n",
              "      gap: 12px;\n",
              "    }\n",
              "\n",
              "    .colab-df-convert {\n",
              "      background-color: #E8F0FE;\n",
              "      border: none;\n",
              "      border-radius: 50%;\n",
              "      cursor: pointer;\n",
              "      display: none;\n",
              "      fill: #1967D2;\n",
              "      height: 32px;\n",
              "      padding: 0 0 0 0;\n",
              "      width: 32px;\n",
              "    }\n",
              "\n",
              "    .colab-df-convert:hover {\n",
              "      background-color: #E2EBFA;\n",
              "      box-shadow: 0px 1px 2px rgba(60, 64, 67, 0.3), 0px 1px 3px 1px rgba(60, 64, 67, 0.15);\n",
              "      fill: #174EA6;\n",
              "    }\n",
              "\n",
              "    [theme=dark] .colab-df-convert {\n",
              "      background-color: #3B4455;\n",
              "      fill: #D2E3FC;\n",
              "    }\n",
              "\n",
              "    [theme=dark] .colab-df-convert:hover {\n",
              "      background-color: #434B5C;\n",
              "      box-shadow: 0px 1px 3px 1px rgba(0, 0, 0, 0.15);\n",
              "      filter: drop-shadow(0px 1px 2px rgba(0, 0, 0, 0.3));\n",
              "      fill: #FFFFFF;\n",
              "    }\n",
              "  </style>\n",
              "\n",
              "      <script>\n",
              "        const buttonEl =\n",
              "          document.querySelector('#df-2946a8b2-b052-4e83-abd7-e80b6a9d6c59 button.colab-df-convert');\n",
              "        buttonEl.style.display =\n",
              "          google.colab.kernel.accessAllowed ? 'block' : 'none';\n",
              "\n",
              "        async function convertToInteractive(key) {\n",
              "          const element = document.querySelector('#df-2946a8b2-b052-4e83-abd7-e80b6a9d6c59');\n",
              "          const dataTable =\n",
              "            await google.colab.kernel.invokeFunction('convertToInteractive',\n",
              "                                                     [key], {});\n",
              "          if (!dataTable) return;\n",
              "\n",
              "          const docLinkHtml = 'Like what you see? Visit the ' +\n",
              "            '<a target=\"_blank\" href=https://colab.research.google.com/notebooks/data_table.ipynb>data table notebook</a>'\n",
              "            + ' to learn more about interactive tables.';\n",
              "          element.innerHTML = '';\n",
              "          dataTable['output_type'] = 'display_data';\n",
              "          await google.colab.output.renderOutput(dataTable, element);\n",
              "          const docLink = document.createElement('div');\n",
              "          docLink.innerHTML = docLinkHtml;\n",
              "          element.appendChild(docLink);\n",
              "        }\n",
              "      </script>\n",
              "    </div>\n",
              "  </div>\n",
              "  "
            ]
          },
          "metadata": {},
          "execution_count": 166
        }
      ],
      "source": [
        "# Read the file named \"Income_prediction.csv\"\n",
        "\n",
        "df = pd.read_csv('/content/income_prediction.csv')\n",
        "df.head()"
      ]
    },
    {
      "cell_type": "markdown",
      "metadata": {
        "id": "4JdQgDFjmKyO"
      },
      "source": [
        "<div class=\"alert alert-block alert-danger\" style=\"color:black;background-color:#F6E6E2\">\n",
        "\n",
        "<b> Question 5:   Using Data science to learn more about Indian society</b>\n",
        "<br />\n",
        "First we are going to use simple analytics to learn more about Indian society with the help of this dataset.\n",
        "\n",
        "The idea is to use basic modeling based on averages & sample distributions to uncover suspected biases, such as gender, skin tone & manglik status.\n",
        "<br /><br />\n",
        "Answer the below questions using plots & simple statistics\n",
        "<br /><br />\n",
        "**5.1** Is there a gender-bias for income of participants?\n",
        "<br /><br />\n",
        "**5.2** Is there a correlation between income and skin complexion?\n",
        "<br /><br />\n",
        "**5.3** Is there a discernable trend in the incomes of participants from different regions/cities?\n",
        "<br /><br />\n",
        "**5.4** Is there a clear trend between BMI and the income?\n",
        "<br /><br />\n",
        "**5.5** Does the level of education show a clear trend with income?\n",
        "<br /><br />\n",
        "**5.6** Do any of the numeric attributes show a clear non-linear dependence with the amount of income?\n",
        "<br /><br />\n",
        "**5.7** Is the income lower or high for those living in 'nuclear' families?\n",
        "<br /><br />\n",
        "**5.8** Is being 'Manglik' negatively affect the income of participants?"
      ]
    },
    {
      "cell_type": "markdown",
      "metadata": {
        "id": "lnszH-G4mKyP"
      },
      "source": [
        "### Solutions"
      ]
    },
    {
      "cell_type": "markdown",
      "metadata": {
        "id": "C1nVMUlnmKyP"
      },
      "source": [
        "### 5.1"
      ]
    },
    {
      "cell_type": "code",
      "execution_count": null,
      "metadata": {
        "id": "13xySaGBmKyP",
        "colab": {
          "base_uri": "https://localhost:8080/",
          "height": 310
        },
        "outputId": "489e01d0-78b6-4143-8f05-cd1717cb5536"
      },
      "outputs": [
        {
          "output_type": "execute_result",
          "data": {
            "text/plain": [
              "<matplotlib.axes._subplots.AxesSubplot at 0x7fb56ee101d0>"
            ]
          },
          "metadata": {},
          "execution_count": 167
        },
        {
          "output_type": "display_data",
          "data": {
            "text/plain": [
              "<Figure size 432x288 with 1 Axes>"
            ],
            "image/png": "[encoded data removed]"
          },
          "metadata": {
            "needs_background": "light"
          }
        }
      ],
      "source": [
        "# your code here\n",
        "sns.barplot(x = 'gender', y = 'income', data = df)"
      ]
    },
    {
      "cell_type": "markdown",
      "source": [
        "In the above bar plot, Yes! it is clearly visible a gender-bias for income of participants."
      ],
      "metadata": {
        "id": "h092Mt4vJeNm"
      }
    },
    {
      "cell_type": "markdown",
      "metadata": {
        "id": "hbI8FAI1mKyQ"
      },
      "source": [
        "### 5.2"
      ]
    },
    {
      "cell_type": "code",
      "execution_count": null,
      "metadata": {
        "scrolled": true,
        "id": "vCTwfiacmKyQ",
        "colab": {
          "base_uri": "https://localhost:8080/",
          "height": 304
        },
        "outputId": "6161c166-c3c9-44f4-b26e-c0bc9c35c0de"
      },
      "outputs": [
        {
          "output_type": "execute_result",
          "data": {
            "text/plain": [
              "<matplotlib.axes._subplots.AxesSubplot at 0x7fb56d34f310>"
            ]
          },
          "metadata": {},
          "execution_count": 168
        },
        {
          "output_type": "display_data",
          "data": {
            "text/plain": [
              "<Figure size 432x288 with 1 Axes>"
            ],
            "image/png": "[encoded data removed]"
          },
          "metadata": {
            "needs_background": "light"
          }
        }
      ],
      "source": [
        "# you code here \n",
        "sns.scatterplot(x = 'complexion', y = 'income', data = df)"
      ]
    },
    {
      "cell_type": "markdown",
      "source": [
        "According to above scatter plot, I think there is no correlation between income and skin complexion."
      ],
      "metadata": {
        "id": "3wtInuteKWhE"
      }
    },
    {
      "cell_type": "markdown",
      "metadata": {
        "id": "JCQ-k3chmKyQ"
      },
      "source": [
        "### 5.3"
      ]
    },
    {
      "cell_type": "code",
      "execution_count": null,
      "metadata": {
        "id": "1ywPDnz2mKyQ",
        "colab": {
          "base_uri": "https://localhost:8080/",
          "height": 304
        },
        "outputId": "ccd4b351-4e70-4772-882f-34e0fc56d3db"
      },
      "outputs": [
        {
          "output_type": "execute_result",
          "data": {
            "text/plain": [
              "<matplotlib.axes._subplots.AxesSubplot at 0x7fb56ecf4450>"
            ]
          },
          "metadata": {},
          "execution_count": 169
        },
        {
          "output_type": "display_data",
          "data": {
            "text/plain": [
              "<Figure size 432x288 with 1 Axes>"
            ],
            "image/png": "[encoded data removed]"
          },
          "metadata": {
            "needs_background": "light"
          }
        }
      ],
      "source": [
        "# your code here\n",
        "sns.barplot(x = 'city', y = 'income', data = df)"
      ]
    },
    {
      "cell_type": "markdown",
      "source": [
        "According to above barplot, there is a discernable trend in the incomes of participants from different regions/cities. As we can see that popele from city 1 get more income than the people of city 12. As the level of city get down, the people get less income."
      ],
      "metadata": {
        "id": "LxJMf8pQK3dq"
      }
    },
    {
      "cell_type": "markdown",
      "metadata": {
        "id": "v7EF7LJKmKyR"
      },
      "source": [
        "### 5.4"
      ]
    },
    {
      "cell_type": "code",
      "execution_count": null,
      "metadata": {
        "collapsed": true,
        "id": "sJQ_8x3TmKyR",
        "colab": {
          "base_uri": "https://localhost:8080/",
          "height": 304
        },
        "outputId": "08e9d359-d36f-4a79-8327-cde1a40f7a93"
      },
      "outputs": [
        {
          "output_type": "execute_result",
          "data": {
            "text/plain": [
              "<matplotlib.axes._subplots.AxesSubplot at 0x7fb56d354b50>"
            ]
          },
          "metadata": {},
          "execution_count": 170
        },
        {
          "output_type": "display_data",
          "data": {
            "text/plain": [
              "<Figure size 432x288 with 1 Axes>"
            ],
            "image/png": "[encoded data removed]"
          },
          "metadata": {
            "needs_background": "light"
          }
        }
      ],
      "source": [
        "# your code here\n",
        "sns.lineplot(x = 'income', y = 'bmi', data = df)\n"
      ]
    },
    {
      "cell_type": "markdown",
      "source": [
        "There we use lineplot instaed of barplot because there are multiple values so it is better to use lineplot and show the trend between two variables. According to above lineplot i think there is no trend between BMI and the income."
      ],
      "metadata": {
        "id": "3tMLpom_L2aC"
      }
    },
    {
      "cell_type": "markdown",
      "metadata": {
        "id": "99mysfDVmKyR"
      },
      "source": [
        "### 5.5"
      ]
    },
    {
      "cell_type": "code",
      "execution_count": null,
      "metadata": {
        "id": "YrZnGVVwmKyS",
        "colab": {
          "base_uri": "https://localhost:8080/",
          "height": 304
        },
        "outputId": "bc0914e9-4c45-419a-b755-61c9e0d0ed41"
      },
      "outputs": [
        {
          "output_type": "execute_result",
          "data": {
            "text/plain": [
              "<matplotlib.axes._subplots.AxesSubplot at 0x7fb56bff6b10>"
            ]
          },
          "metadata": {},
          "execution_count": 171
        },
        {
          "output_type": "display_data",
          "data": {
            "text/plain": [
              "<Figure size 432x288 with 1 Axes>"
            ],
            "image/png": "[encoded data removed]"
          },
          "metadata": {
            "needs_background": "light"
          }
        }
      ],
      "source": [
        "# your code here\n",
        "sns.barplot(x = 'education', y = 'income', data = df)"
      ]
    },
    {
      "cell_type": "markdown",
      "source": [
        "According to above barplot, we can see that the higher you are educated, the higher the income rate. "
      ],
      "metadata": {
        "id": "7PFHj0c7MP91"
      }
    },
    {
      "cell_type": "markdown",
      "metadata": {
        "id": "0F3MrDIjmKyS"
      },
      "source": [
        "### 5.6"
      ]
    },
    {
      "cell_type": "code",
      "execution_count": null,
      "metadata": {
        "id": "C3da3MGPmKyS",
        "colab": {
          "base_uri": "https://localhost:8080/",
          "height": 304
        },
        "outputId": "34d888f9-c38f-42ad-8b64-686d4247ccb1"
      },
      "outputs": [
        {
          "output_type": "execute_result",
          "data": {
            "text/plain": [
              "<matplotlib.axes._subplots.AxesSubplot at 0x7fb56b6a2390>"
            ]
          },
          "metadata": {},
          "execution_count": 172
        },
        {
          "output_type": "display_data",
          "data": {
            "text/plain": [
              "<Figure size 432x288 with 1 Axes>"
            ],
            "image/png": "[encoded data removed]"
          },
          "metadata": {
            "needs_background": "light"
          }
        }
      ],
      "source": [
        "# your code here\n",
        "sns.lineplot(x = 'income', y = 'age', data = df)"
      ]
    },
    {
      "cell_type": "markdown",
      "source": [
        "According to above lineplot, there is a numeric attribute which is weight which shows a clear non-linear dependence with the amount of income. "
      ],
      "metadata": {
        "id": "AOX4jvooM8hE"
      }
    },
    {
      "cell_type": "markdown",
      "metadata": {
        "id": "dNF4tcrXmKyS"
      },
      "source": [
        "### 5.7"
      ]
    },
    {
      "cell_type": "code",
      "execution_count": null,
      "metadata": {
        "collapsed": true,
        "id": "2b3RftrFmKyT",
        "colab": {
          "base_uri": "https://localhost:8080/",
          "height": 304
        },
        "outputId": "39b91320-778d-4b0e-97af-8e0780de38c3"
      },
      "outputs": [
        {
          "output_type": "execute_result",
          "data": {
            "text/plain": [
              "<matplotlib.axes._subplots.AxesSubplot at 0x7fb56b7c9850>"
            ]
          },
          "metadata": {},
          "execution_count": 173
        },
        {
          "output_type": "display_data",
          "data": {
            "text/plain": [
              "<Figure size 432x288 with 1 Axes>"
            ],
            "image/png": "[encoded data removed]"
          },
          "metadata": {
            "needs_background": "light"
          }
        }
      ],
      "source": [
        "# your code here\n",
        "sns.barplot(x = 'family_type', y = 'income', data = df)"
      ]
    },
    {
      "cell_type": "markdown",
      "source": [
        "According to above barplot, family 2 which has lower income. "
      ],
      "metadata": {
        "id": "PCYHWP73NgXe"
      }
    },
    {
      "cell_type": "markdown",
      "metadata": {
        "id": "Hcadm2T8mKyT"
      },
      "source": [
        "### 5.8"
      ]
    },
    {
      "cell_type": "code",
      "execution_count": null,
      "metadata": {
        "collapsed": true,
        "id": "fmdnBvQemKyT",
        "colab": {
          "base_uri": "https://localhost:8080/",
          "height": 304
        },
        "outputId": "8f4b997c-2d08-43bf-ba80-09ff9e3820d0"
      },
      "outputs": [
        {
          "output_type": "execute_result",
          "data": {
            "text/plain": [
              "<matplotlib.axes._subplots.AxesSubplot at 0x7fb56b83d190>"
            ]
          },
          "metadata": {},
          "execution_count": 174
        },
        {
          "output_type": "display_data",
          "data": {
            "text/plain": [
              "<Figure size 432x288 with 1 Axes>"
            ],
            "image/png": "[encoded data removed]"
          },
          "metadata": {
            "needs_background": "light"
          }
        }
      ],
      "source": [
        "# your code here\n",
        "sns.barplot(x = 'manglik', y = 'income', data = df)\n"
      ]
    },
    {
      "cell_type": "markdown",
      "source": [
        "According to above barplot, I think there is nothing like manglik can effect on income of participants."
      ],
      "metadata": {
        "id": "xuuYenNsOBLp"
      }
    },
    {
      "cell_type": "markdown",
      "metadata": {
        "id": "x7GCKy58mKyU"
      },
      "source": [
        "<div class=\"alert alert-block alert-danger\" style=\"color:black;background-color:#F6E6E2\">\n",
        "<b> Question 6:  Calculate the Gini Index  [10 points total]</b>\n",
        "\n",
        "\n",
        "Gini coefficients are often used to quantify income inequality, read more [here](http://www.statsdirect.com/help/default.htm#nonparametric_methods/gini.htm).\n",
        "\n",
        "The Gini coefficient is defined by the formula:\n",
        "\n",
        "$G = \\dfrac{ \\sum_{i=1}^{n} (2i - n - 1) x_i}{n  \\sum_{i=1}^{n} x_i}$\n",
        "\n",
        "where $x$ is an observed value, $n$ is the number of values observed and $i$ is the rank of values in **ascending** order.\n",
        "\n",
        "A Gini Index of 0 implies perfect income equality, whereas a gini index close to 1 implies a concentration of wealth among the richest few.\n",
        "<br /><br />\n",
        "**6.1** Based on the above formula, calculate the Gini coffient for the income of the participants of this dataset\n",
        "<br /><br />\n",
        "**6.2** Compare your gini index with other countries\n",
        "\n",
        "According to the [world bank estimate](https://www.indexmundi.com/facts/indicators/SI.POV.GINI/rankings) the gini index of South Africa is 0.6 while that of Ukrain is 0.25. \n",
        "\n",
        "Based on your calculated gini index value for this dataset, what is your conclusion on the income disparity in the three countries?"
      ]
    },
    {
      "cell_type": "markdown",
      "metadata": {
        "id": "wc9O9-rwmKyU"
      },
      "source": [
        "### Solutions"
      ]
    },
    {
      "cell_type": "markdown",
      "metadata": {
        "id": "PLh7NqSvmKyU"
      },
      "source": [
        "### 6.1"
      ]
    },
    {
      "cell_type": "code",
      "execution_count": null,
      "metadata": {
        "scrolled": true,
        "id": "WeG3LsTmmKyU",
        "colab": {
          "base_uri": "https://localhost:8080/"
        },
        "outputId": "01ff9f04-515f-4a03-c7c2-87e99e286a01"
      },
      "outputs": [
        {
          "output_type": "stream",
          "name": "stdout",
          "text": [
            "0.4944259312023583\n"
          ]
        }
      ],
      "source": [
        "# your code here\n",
        "# As we have calculated gini index in our lab 2 \n",
        "# this is the same code.\n",
        "\n",
        "income = df.income\n",
        "income = income.sort_values(ascending=True)\n",
        "def gini(array):\n",
        "    array = array.values.flatten()\n",
        "    if np.amin(array) < 0:\n",
        "        array -= np.amin(array)\n",
        "    array = np.sort(array)\n",
        "    index = np.arange(1,array.shape[0]+1)\n",
        "    n = array.shape[0]\n",
        "    return ((np.sum((2 * index - n  - 1) * array)) / (n * np.sum(array)))\n",
        "print(gini(income))"
      ]
    },
    {
      "cell_type": "markdown",
      "metadata": {
        "id": "GETRBCfJmKyV"
      },
      "source": [
        "### 6.2"
      ]
    },
    {
      "cell_type": "markdown",
      "source": [
        "The gini index of india is 0.49. So the income in undistributed."
      ],
      "metadata": {
        "id": "73JTI6FVRriW"
      }
    }
  ]
}