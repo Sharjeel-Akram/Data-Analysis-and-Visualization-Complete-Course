{
  "nbformat": 4,
  "nbformat_minor": 0,
  "metadata": {
    "colab": {
      "name": "Sharjeel Akram - Lab-3_pre.ipynb",
      "provenance": []
    },
    "kernelspec": {
      "name": "python3",
      "display_name": "Python 3"
    },
    "language_info": {
      "name": "python"
    }
  },
  "cells": [
    {
      "cell_type": "code",
      "execution_count": null,
      "metadata": {
        "id": "eIn_4b7kC52I"
      },
      "outputs": [],
      "source": [
        ""
      ]
    },
    {
      "cell_type": "markdown",
      "source": [
        "Read the diabetes dataset from the \n",
        "\n",
        "https://github.com/akmalatnamal/davlab3/raw/main/diabetes.csv\n"
      ],
      "metadata": {
        "id": "lisdTPvzC7BX"
      }
    },
    {
      "cell_type": "code",
      "source": [
        "import pandas as pd\n",
        "import numpy as np\n",
        "df = pd.read_csv('https://github.com/akmalatnamal/davlab3/raw/main/diabetes.csv')\n",
        "df.head()"
      ],
      "metadata": {
        "colab": {
          "base_uri": "https://localhost:8080/",
          "height": 206
        },
        "id": "jNZ5b62IWQ-Y",
        "outputId": "d9059300-a432-4b45-c3d1-ad700a276f59"
      },
      "execution_count": null,
      "outputs": [
        {
          "output_type": "execute_result",
          "data": {
            "text/html": [
              "\n",
              "  <div id=\"df-dcd517f6-8ca9-449e-aa9b-14427bb9c669\">\n",
              "    <div class=\"colab-df-container\">\n",
              "      <div>\n",
              "<style scoped>\n",
              "    .dataframe tbody tr th:only-of-type {\n",
              "        vertical-align: middle;\n",
              "    }\n",
              "\n",
              "    .dataframe tbody tr th {\n",
              "        vertical-align: top;\n",
              "    }\n",
              "\n",
              "    .dataframe thead th {\n",
              "        text-align: right;\n",
              "    }\n",
              "</style>\n",
              "<table border=\"1\" class=\"dataframe\">\n",
              "  <thead>\n",
              "    <tr style=\"text-align: right;\">\n",
              "      <th></th>\n",
              "      <th>Pregnancies</th>\n",
              "      <th>Glucose</th>\n",
              "      <th>BloodPressure</th>\n",
              "      <th>SkinThickness</th>\n",
              "      <th>Insulin</th>\n",
              "      <th>BMI</th>\n",
              "      <th>DiabetesPedigreeFunction</th>\n",
              "      <th>Age</th>\n",
              "      <th>Outcome</th>\n",
              "    </tr>\n",
              "  </thead>\n",
              "  <tbody>\n",
              "    <tr>\n",
              "      <th>0</th>\n",
              "      <td>6</td>\n",
              "      <td>148</td>\n",
              "      <td>72</td>\n",
              "      <td>35</td>\n",
              "      <td>0</td>\n",
              "      <td>33.6</td>\n",
              "      <td>0.627</td>\n",
              "      <td>50</td>\n",
              "      <td>1</td>\n",
              "    </tr>\n",
              "    <tr>\n",
              "      <th>1</th>\n",
              "      <td>1</td>\n",
              "      <td>85</td>\n",
              "      <td>66</td>\n",
              "      <td>29</td>\n",
              "      <td>0</td>\n",
              "      <td>26.6</td>\n",
              "      <td>0.351</td>\n",
              "      <td>31</td>\n",
              "      <td>0</td>\n",
              "    </tr>\n",
              "    <tr>\n",
              "      <th>2</th>\n",
              "      <td>8</td>\n",
              "      <td>183</td>\n",
              "      <td>64</td>\n",
              "      <td>0</td>\n",
              "      <td>0</td>\n",
              "      <td>23.3</td>\n",
              "      <td>0.672</td>\n",
              "      <td>32</td>\n",
              "      <td>1</td>\n",
              "    </tr>\n",
              "    <tr>\n",
              "      <th>3</th>\n",
              "      <td>1</td>\n",
              "      <td>89</td>\n",
              "      <td>66</td>\n",
              "      <td>23</td>\n",
              "      <td>94</td>\n",
              "      <td>28.1</td>\n",
              "      <td>0.167</td>\n",
              "      <td>21</td>\n",
              "      <td>0</td>\n",
              "    </tr>\n",
              "    <tr>\n",
              "      <th>4</th>\n",
              "      <td>0</td>\n",
              "      <td>137</td>\n",
              "      <td>40</td>\n",
              "      <td>35</td>\n",
              "      <td>168</td>\n",
              "      <td>43.1</td>\n",
              "      <td>2.288</td>\n",
              "      <td>33</td>\n",
              "      <td>1</td>\n",
              "    </tr>\n",
              "  </tbody>\n",
              "</table>\n",
              "</div>\n",
              "      <button class=\"colab-df-convert\" onclick=\"convertToInteractive('df-dcd517f6-8ca9-449e-aa9b-14427bb9c669')\"\n",
              "              title=\"Convert this dataframe to an interactive table.\"\n",
              "              style=\"display:none;\">\n",
              "        \n",
              "  <svg xmlns=\"http://www.w3.org/2000/svg\" height=\"24px\"viewBox=\"0 0 24 24\"\n",
              "       width=\"24px\">\n",
              "    <path d=\"M0 0h24v24H0V0z\" fill=\"none\"/>\n",
              "    <path d=\"M18.56 5.44l.94 2.06.94-2.06 2.06-.94-2.06-.94-.94-2.06-.94 2.06-2.06.94zm-11 1L8.5 8.5l.94-2.06 2.06-.94-2.06-.94L8.5 2.5l-.94 2.06-2.06.94zm10 10l.94 2.06.94-2.06 2.06-.94-2.06-.94-.94-2.06-.94 2.06-2.06.94z\"/><path d=\"M17.41 7.96l-1.37-1.37c-.4-.4-.92-.59-1.43-.59-.52 0-1.04.2-1.43.59L10.3 9.45l-7.72 7.72c-.78.78-.78 2.05 0 2.83L4 21.41c.39.39.9.59 1.41.59.51 0 1.02-.2 1.41-.59l7.78-7.78 2.81-2.81c.8-.78.8-2.07 0-2.86zM5.41 20L4 18.59l7.72-7.72 1.47 1.35L5.41 20z\"/>\n",
              "  </svg>\n",
              "      </button>\n",
              "      \n",
              "  <style>\n",
              "    .colab-df-container {\n",
              "      display:flex;\n",
              "      flex-wrap:wrap;\n",
              "      gap: 12px;\n",
              "    }\n",
              "\n",
              "    .colab-df-convert {\n",
              "      background-color: #E8F0FE;\n",
              "      border: none;\n",
              "      border-radius: 50%;\n",
              "      cursor: pointer;\n",
              "      display: none;\n",
              "      fill: #1967D2;\n",
              "      height: 32px;\n",
              "      padding: 0 0 0 0;\n",
              "      width: 32px;\n",
              "    }\n",
              "\n",
              "    .colab-df-convert:hover {\n",
              "      background-color: #E2EBFA;\n",
              "      box-shadow: 0px 1px 2px rgba(60, 64, 67, 0.3), 0px 1px 3px 1px rgba(60, 64, 67, 0.15);\n",
              "      fill: #174EA6;\n",
              "    }\n",
              "\n",
              "    [theme=dark] .colab-df-convert {\n",
              "      background-color: #3B4455;\n",
              "      fill: #D2E3FC;\n",
              "    }\n",
              "\n",
              "    [theme=dark] .colab-df-convert:hover {\n",
              "      background-color: #434B5C;\n",
              "      box-shadow: 0px 1px 3px 1px rgba(0, 0, 0, 0.15);\n",
              "      filter: drop-shadow(0px 1px 2px rgba(0, 0, 0, 0.3));\n",
              "      fill: #FFFFFF;\n",
              "    }\n",
              "  </style>\n",
              "\n",
              "      <script>\n",
              "        const buttonEl =\n",
              "          document.querySelector('#df-dcd517f6-8ca9-449e-aa9b-14427bb9c669 button.colab-df-convert');\n",
              "        buttonEl.style.display =\n",
              "          google.colab.kernel.accessAllowed ? 'block' : 'none';\n",
              "\n",
              "        async function convertToInteractive(key) {\n",
              "          const element = document.querySelector('#df-dcd517f6-8ca9-449e-aa9b-14427bb9c669');\n",
              "          const dataTable =\n",
              "            await google.colab.kernel.invokeFunction('convertToInteractive',\n",
              "                                                     [key], {});\n",
              "          if (!dataTable) return;\n",
              "\n",
              "          const docLinkHtml = 'Like what you see? Visit the ' +\n",
              "            '<a target=\"_blank\" href=https://colab.research.google.com/notebooks/data_table.ipynb>data table notebook</a>'\n",
              "            + ' to learn more about interactive tables.';\n",
              "          element.innerHTML = '';\n",
              "          dataTable['output_type'] = 'display_data';\n",
              "          await google.colab.output.renderOutput(dataTable, element);\n",
              "          const docLink = document.createElement('div');\n",
              "          docLink.innerHTML = docLinkHtml;\n",
              "          element.appendChild(docLink);\n",
              "        }\n",
              "      </script>\n",
              "    </div>\n",
              "  </div>\n",
              "  "
            ],
            "text/plain": [
              "   Pregnancies  Glucose  BloodPressure  ...  DiabetesPedigreeFunction  Age  Outcome\n",
              "0            6      148             72  ...                     0.627   50        1\n",
              "1            1       85             66  ...                     0.351   31        0\n",
              "2            8      183             64  ...                     0.672   32        1\n",
              "3            1       89             66  ...                     0.167   21        0\n",
              "4            0      137             40  ...                     2.288   33        1\n",
              "\n",
              "[5 rows x 9 columns]"
            ]
          },
          "metadata": {},
          "execution_count": 25
        }
      ]
    },
    {
      "cell_type": "markdown",
      "source": [
        "![image.png](data:image/png;base64,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)"
      ],
      "metadata": {
        "id": "FFIZGhGeZCkb"
      }
    },
    {
      "cell_type": "code",
      "source": [
        "x = df.Glucose.values\n",
        "x = np.asarray(x)\n",
        "x\n"
      ],
      "metadata": {
        "id": "I2bZjC0lWeN0",
        "colab": {
          "base_uri": "https://localhost:8080/"
        },
        "outputId": "24f26768-cb18-4f8a-c7ae-153910866d19"
      },
      "execution_count": null,
      "outputs": [
        {
          "output_type": "execute_result",
          "data": {
            "text/plain": [
              "array([148,  85, 183,  89, 137, 116,  78, 115, 197, 125, 110, 168, 139,\n",
              "       189, 166, 100, 118, 107, 103, 115, 126,  99, 196, 119, 143, 125,\n",
              "       147,  97, 145, 117, 109, 158,  88,  92, 122, 103, 138, 102,  90,\n",
              "       111, 180, 133, 106, 171, 159, 180, 146,  71, 103, 105, 103, 101,\n",
              "        88, 176, 150,  73, 187, 100, 146, 105,  84, 133,  44, 141, 114,\n",
              "        99, 109, 109,  95, 146, 100, 139, 126, 129,  79,   0,  62,  95,\n",
              "       131, 112, 113,  74,  83, 101, 137, 110, 106, 100, 136, 107,  80,\n",
              "       123,  81, 134, 142, 144,  92,  71,  93, 122, 163, 151, 125,  81,\n",
              "        85, 126,  96, 144,  83,  95, 171, 155,  89,  76, 160, 146, 124,\n",
              "        78,  97,  99, 162, 111, 107, 132, 113,  88, 120, 118, 117, 105,\n",
              "       173, 122, 170,  84,  96, 125, 100,  93, 129, 105, 128, 106, 108,\n",
              "       108, 154, 102,  57, 106, 147,  90, 136, 114, 156, 153, 188, 152,\n",
              "        99, 109,  88, 163, 151, 102, 114, 100, 131, 104, 148, 120, 110,\n",
              "       111, 102, 134,  87,  79,  75, 179,  85, 129, 143, 130,  87, 119,\n",
              "         0,  73, 141, 194, 181, 128, 109, 139, 111, 123, 159, 135,  85,\n",
              "       158, 105, 107, 109, 148, 113, 138, 108,  99, 103, 111, 196, 162,\n",
              "        96, 184,  81, 147, 179, 140, 112, 151, 109, 125,  85, 112, 177,\n",
              "       158, 119, 142, 100,  87, 101, 162, 197, 117, 142, 134,  79, 122,\n",
              "        74, 171, 181, 179, 164, 104,  91,  91, 139, 119, 146, 184, 122,\n",
              "       165, 124, 111, 106, 129,  90,  86,  92, 113, 111, 114, 193, 155,\n",
              "       191, 141,  95, 142, 123,  96, 138, 128, 102, 146, 101, 108, 122,\n",
              "        71, 106, 100, 106, 104, 114, 108, 146, 129, 133, 161, 108, 136,\n",
              "       155, 119,  96, 108,  78, 107, 128, 128, 161, 151, 146, 126, 100,\n",
              "       112, 167, 144,  77, 115, 150, 120, 161, 137, 128, 124,  80, 106,\n",
              "       155, 113, 109, 112,  99, 182, 115, 194, 129, 112, 124, 152, 112,\n",
              "       157, 122, 179, 102, 105, 118,  87, 180, 106,  95, 165, 117, 115,\n",
              "       152, 178, 130,  95,   0, 122,  95, 126, 139, 116,  99,   0,  92,\n",
              "       137,  61,  90,  90, 165, 125, 129,  88, 196, 189, 158, 103, 146,\n",
              "       147,  99, 124, 101,  81, 133, 173, 118,  84, 105, 122, 140,  98,\n",
              "        87, 156,  93, 107, 105, 109,  90, 125, 119, 116, 105, 144, 100,\n",
              "       100, 166, 131, 116, 158, 127,  96, 131,  82, 193,  95, 137, 136,\n",
              "        72, 168, 123, 115, 101, 197, 172, 102, 112, 143, 143, 138, 173,\n",
              "        97, 144,  83, 129, 119,  94, 102, 115, 151, 184,  94, 181, 135,\n",
              "        95,  99,  89,  80, 139,  90, 141, 140, 147,  97, 107, 189,  83,\n",
              "       117, 108, 117, 180, 100,  95, 104, 120,  82, 134,  91, 119, 100,\n",
              "       175, 135,  86, 148, 134, 120,  71,  74,  88, 115, 124,  74,  97,\n",
              "       120, 154, 144, 137, 119, 136, 114, 137, 105, 114, 126, 132, 158,\n",
              "       123,  85,  84, 145, 135, 139, 173,  99, 194,  83,  89,  99, 125,\n",
              "        80, 166, 110,  81, 195, 154, 117,  84,   0,  94,  96,  75, 180,\n",
              "       130,  84, 120,  84, 139,  91,  91,  99, 163, 145, 125,  76, 129,\n",
              "        68, 124, 114, 130, 125,  87,  97, 116, 117, 111, 122, 107,  86,\n",
              "        91,  77, 132, 105,  57, 127, 129, 100, 128,  90,  84,  88, 186,\n",
              "       187, 131, 164, 189, 116,  84, 114,  88,  84, 124,  97, 110, 103,\n",
              "        85, 125, 198,  87,  99,  91,  95,  99,  92, 154, 121,  78, 130,\n",
              "       111,  98, 143, 119, 108, 118, 133, 197, 151, 109, 121, 100, 124,\n",
              "        93, 143, 103, 176,  73, 111, 112, 132,  82, 123, 188,  67,  89,\n",
              "       173, 109, 108,  96, 124, 150, 183, 124, 181,  92, 152, 111, 106,\n",
              "       174, 168, 105, 138, 106, 117,  68, 112, 119, 112,  92, 183,  94,\n",
              "       108,  90, 125, 132, 128,  94, 114, 102, 111, 128,  92, 104, 104,\n",
              "        94,  97, 100, 102, 128, 147,  90, 103, 157, 167, 179, 136, 107,\n",
              "        91, 117, 123, 120, 106, 155, 101, 120, 127,  80, 162, 199, 167,\n",
              "       145, 115, 112, 145, 111,  98, 154, 165,  99,  68, 123,  91, 195,\n",
              "       156,  93, 121, 101,  56, 162,  95, 125, 136, 129, 130, 107, 140,\n",
              "       144, 107, 158, 121, 129,  90, 142, 169,  99, 127, 118, 122, 125,\n",
              "       168, 129, 110,  80, 115, 127, 164,  93, 158, 126, 129, 134, 102,\n",
              "       187, 173,  94, 108,  97,  83, 114, 149, 117, 111, 112, 116, 141,\n",
              "       175,  92, 130, 120, 174, 106, 105,  95, 126,  65,  99, 102, 120,\n",
              "       102, 109, 140, 153, 100, 147,  81, 187, 162, 136, 121, 108, 181,\n",
              "       154, 128, 137, 123, 106, 190,  88, 170,  89, 101, 122, 121, 126,\n",
              "        93])"
            ]
          },
          "metadata": {},
          "execution_count": 26
        }
      ]
    },
    {
      "cell_type": "code",
      "source": [
        "y = df.Outcome.values\n",
        "y = np.asarray(y)\n",
        "y"
      ],
      "metadata": {
        "colab": {
          "base_uri": "https://localhost:8080/"
        },
        "id": "Qj28a6Y1frob",
        "outputId": "1f1fe724-1cd1-4dbc-9e2a-422078a6f80d"
      },
      "execution_count": null,
      "outputs": [
        {
          "output_type": "execute_result",
          "data": {
            "text/plain": [
              "array([1, 0, 1, 0, 1, 0, 1, 0, 1, 1, 0, 1, 0, 1, 1, 1, 1, 1, 0, 1, 0, 0,\n",
              "       1, 1, 1, 1, 1, 0, 0, 0, 0, 1, 0, 0, 0, 0, 0, 1, 1, 1, 0, 0, 0, 1,\n",
              "       0, 1, 0, 0, 1, 0, 0, 0, 0, 1, 0, 0, 1, 0, 0, 0, 0, 1, 0, 0, 1, 0,\n",
              "       1, 0, 0, 0, 1, 0, 1, 0, 0, 0, 0, 0, 1, 0, 0, 0, 0, 0, 1, 0, 0, 0,\n",
              "       1, 0, 0, 0, 0, 1, 0, 0, 0, 0, 0, 1, 1, 0, 0, 0, 0, 0, 0, 0, 0, 1,\n",
              "       1, 1, 0, 0, 1, 1, 1, 0, 0, 0, 1, 0, 0, 0, 1, 1, 0, 0, 1, 1, 1, 1,\n",
              "       1, 0, 0, 0, 0, 0, 0, 0, 0, 0, 0, 1, 0, 0, 0, 0, 0, 0, 0, 0, 1, 0,\n",
              "       1, 1, 0, 0, 0, 1, 0, 0, 0, 0, 1, 1, 0, 0, 0, 0, 1, 1, 0, 0, 0, 1,\n",
              "       0, 1, 0, 1, 0, 0, 0, 0, 0, 1, 1, 1, 1, 1, 0, 0, 1, 1, 0, 1, 0, 1,\n",
              "       1, 1, 0, 0, 0, 0, 0, 0, 1, 1, 0, 1, 0, 0, 0, 1, 1, 1, 1, 0, 1, 1,\n",
              "       1, 1, 0, 0, 0, 0, 0, 1, 0, 0, 1, 1, 0, 0, 0, 1, 1, 1, 1, 0, 0, 0,\n",
              "       1, 1, 0, 1, 0, 0, 0, 0, 0, 0, 0, 0, 1, 1, 0, 0, 0, 1, 0, 1, 0, 0,\n",
              "       1, 0, 1, 0, 0, 1, 1, 0, 0, 0, 0, 0, 1, 0, 0, 0, 1, 0, 0, 1, 1, 0,\n",
              "       0, 1, 0, 0, 0, 1, 1, 1, 0, 0, 1, 0, 1, 0, 1, 1, 0, 1, 0, 0, 1, 0,\n",
              "       1, 1, 0, 0, 1, 0, 1, 0, 0, 1, 0, 1, 0, 1, 1, 1, 0, 0, 1, 0, 1, 0,\n",
              "       0, 0, 1, 0, 0, 0, 0, 1, 1, 1, 0, 0, 0, 0, 0, 0, 0, 0, 0, 1, 0, 0,\n",
              "       0, 0, 0, 1, 1, 1, 0, 1, 1, 0, 0, 1, 0, 0, 1, 0, 0, 1, 1, 0, 0, 0,\n",
              "       0, 1, 0, 0, 1, 0, 0, 0, 0, 0, 0, 0, 1, 1, 1, 0, 0, 1, 0, 0, 1, 0,\n",
              "       0, 1, 0, 1, 1, 0, 1, 0, 1, 0, 1, 0, 1, 1, 0, 0, 0, 0, 1, 1, 0, 1,\n",
              "       0, 1, 0, 0, 0, 0, 1, 1, 0, 1, 0, 1, 0, 0, 0, 0, 0, 1, 0, 0, 0, 0,\n",
              "       1, 0, 0, 1, 1, 1, 0, 0, 1, 0, 0, 1, 0, 0, 0, 1, 0, 0, 1, 0, 0, 0,\n",
              "       0, 0, 0, 0, 0, 0, 1, 0, 0, 0, 0, 0, 0, 0, 1, 0, 0, 0, 1, 0, 0, 0,\n",
              "       1, 1, 0, 0, 0, 0, 0, 0, 0, 1, 0, 0, 0, 0, 1, 0, 0, 0, 1, 0, 0, 0,\n",
              "       1, 0, 0, 0, 1, 0, 0, 0, 0, 1, 1, 0, 0, 0, 0, 0, 0, 1, 0, 0, 0, 0,\n",
              "       0, 0, 0, 0, 0, 0, 0, 1, 0, 0, 0, 1, 1, 1, 1, 0, 0, 1, 1, 0, 0, 0,\n",
              "       0, 0, 0, 0, 0, 0, 0, 0, 0, 0, 1, 1, 0, 0, 0, 0, 0, 0, 0, 1, 0, 0,\n",
              "       0, 0, 0, 0, 0, 1, 0, 1, 1, 0, 0, 0, 1, 0, 1, 0, 1, 0, 1, 0, 1, 0,\n",
              "       0, 1, 0, 0, 1, 0, 0, 0, 0, 1, 1, 0, 1, 0, 0, 0, 0, 1, 1, 0, 1, 0,\n",
              "       0, 0, 1, 1, 0, 0, 0, 0, 0, 0, 0, 0, 0, 0, 1, 0, 0, 0, 0, 1, 0, 0,\n",
              "       1, 0, 0, 0, 1, 0, 0, 0, 1, 1, 1, 0, 0, 0, 0, 0, 0, 1, 0, 0, 0, 1,\n",
              "       0, 1, 1, 1, 1, 0, 1, 1, 0, 0, 0, 0, 0, 0, 0, 1, 1, 0, 1, 0, 0, 1,\n",
              "       0, 1, 0, 0, 0, 0, 0, 1, 0, 1, 0, 1, 0, 1, 1, 0, 0, 0, 0, 1, 1, 0,\n",
              "       0, 0, 1, 0, 1, 1, 0, 0, 1, 0, 0, 1, 1, 0, 0, 1, 0, 0, 1, 0, 0, 0,\n",
              "       0, 0, 0, 0, 1, 1, 1, 0, 0, 0, 0, 0, 0, 1, 1, 0, 0, 1, 0, 0, 1, 0,\n",
              "       1, 1, 1, 0, 0, 1, 1, 1, 0, 1, 0, 1, 0, 1, 0, 0, 0, 0, 1, 0])"
            ]
          },
          "metadata": {},
          "execution_count": 27
        }
      ]
    },
    {
      "cell_type": "code",
      "source": [
        "X_mean = np.mean(x)\n",
        "X_mean"
      ],
      "metadata": {
        "colab": {
          "base_uri": "https://localhost:8080/"
        },
        "id": "5NvAUKxdf5hV",
        "outputId": "dc494fe7-9ed8-4d32-e34b-e5aebaa881ce"
      },
      "execution_count": null,
      "outputs": [
        {
          "output_type": "execute_result",
          "data": {
            "text/plain": [
              "120.89453125"
            ]
          },
          "metadata": {},
          "execution_count": 28
        }
      ]
    },
    {
      "cell_type": "code",
      "source": [
        "Y_mean = np.mean(y)\n",
        "Y_mean"
      ],
      "metadata": {
        "colab": {
          "base_uri": "https://localhost:8080/"
        },
        "id": "YtPzcO5_gKPu",
        "outputId": "70ad2ac3-aa75-463d-9809-4a67e1820ace"
      },
      "execution_count": null,
      "outputs": [
        {
          "output_type": "execute_result",
          "data": {
            "text/plain": [
              "0.3489583333333333"
            ]
          },
          "metadata": {},
          "execution_count": 29
        }
      ]
    },
    {
      "cell_type": "code",
      "source": [
        "std_x = np.std(x)\n",
        "std_x"
      ],
      "metadata": {
        "colab": {
          "base_uri": "https://localhost:8080/"
        },
        "id": "TDcnXWrLgOYu",
        "outputId": "9e176774-9363-4d8b-80d7-178d9223a119"
      },
      "execution_count": null,
      "outputs": [
        {
          "output_type": "execute_result",
          "data": {
            "text/plain": [
              "31.95179590820272"
            ]
          },
          "metadata": {},
          "execution_count": 30
        }
      ]
    },
    {
      "cell_type": "code",
      "source": [
        "std_y = np.std(y)\n",
        "std_y"
      ],
      "metadata": {
        "colab": {
          "base_uri": "https://localhost:8080/"
        },
        "id": "Sa2UbA-4gfe1",
        "outputId": "45f39e11-88ff-475a-d23c-27eadd739287"
      },
      "execution_count": null,
      "outputs": [
        {
          "output_type": "execute_result",
          "data": {
            "text/plain": [
              "0.47664076087820645"
            ]
          },
          "metadata": {},
          "execution_count": 31
        }
      ]
    },
    {
      "cell_type": "code",
      "source": [
        "def correlation(x,y, cols):\n",
        "  cor = {}\n",
        "  for c in cols:\n",
        "    x_mean = x[c].mean()\n",
        "    y_mean = y.mean()\n",
        "    x_std = x[c].std()\n",
        "    y_std = y.std()\n",
        "    cor_sum = 0\n",
        "    x_values = x[c].values\n",
        "    # y_values = y[c].values\n",
        "    for i in range(len(x_values)):\n",
        "      cor_sum = cor_sum + ( (x_values[i]-x_mean) *(y[i] - y_mean ))\n",
        "      cor_sum  = cor_sum /  (x_std * y_std) \n",
        "    cor[c] = cor_sum\n",
        "  return cor\n",
        "x = df.drop(['Outcome'], axis=1)\n",
        "y = df['Outcome']\n",
        "print(correlation(x,y,x.columns))"
      ],
      "metadata": {
        "colab": {
          "base_uri": "https://localhost:8080/"
        },
        "id": "33jdAQvrgp_U",
        "outputId": "06787721-24f1-4229-bfb2-828552cf139a"
      },
      "execution_count": null,
      "outputs": [
        {
          "output_type": "stream",
          "name": "stdout",
          "text": [
            "{'Pregnancies': -0.2598736741096568, 'Glucose': 0.6526082674020095, 'BloodPressure': -0.10472789751837573, 'SkinThickness': -0.7138304439279354, 'Insulin': 0.4893581259985765, 'BMI': 0.09180809245832927, 'DiabetesPedigreeFunction': inf, 'Age': 0.9286261946733136}\n"
          ]
        },
        {
          "output_type": "stream",
          "name": "stderr",
          "text": [
            "/usr/local/lib/python3.7/dist-packages/ipykernel_launcher.py:13: RuntimeWarning: overflow encountered in double_scalars\n",
            "  del sys.path[0]\n"
          ]
        }
      ]
    },
    {
      "cell_type": "code",
      "source": [
        "def correlation(df):\n",
        "  cor = {}\n",
        "  for c in df:\n",
        "    zero = df[df['Outcome'] == 0]\n",
        "    one = df[df['Outcome'] == 1]\n",
        "    N1 = len(zero)\n",
        "    N2 = len(one)\n",
        "    zero_mean = zero[c].mean()\n",
        "    one_mean = one[c].mean()\n",
        "    zero_std = zero[c].std()\n",
        "    one_std = one[c].std()\n",
        "    upper = abs(zero_mean - one_mean)\n",
        "    lower = np.sqrt(((zero_std ** 2)/N1) + ((one_std ** 2)/N2))\n",
        "    test = upper / lower\n",
        "    cor[c] = test\n",
        "  return cor \n",
        "print(correlation(df))"
      ],
      "metadata": {
        "colab": {
          "base_uri": "https://localhost:8080/"
        },
        "id": "vHiDGQVmth-1",
        "outputId": "30932799-6b4c-4d77-a677-a2d198afbf21"
      },
      "execution_count": null,
      "outputs": [
        {
          "output_type": "stream",
          "name": "stdout",
          "text": [
            "{'Pregnancies': 5.9069614794974905, 'Glucose': 13.751537067396413, 'BloodPressure': 1.7130865949770784, 'SkinThickness': 1.9705792220450462, 'Insulin': 3.300894771479333, 'BMI': 8.619316881357921, 'DiabetesPedigreeFunction': 4.576812008291273, 'Age': 6.920738378988038, 'Outcome': inf}\n"
          ]
        },
        {
          "output_type": "stream",
          "name": "stderr",
          "text": [
            "/usr/local/lib/python3.7/dist-packages/ipykernel_launcher.py:14: RuntimeWarning: divide by zero encountered in double_scalars\n",
            "  \n"
          ]
        }
      ]
    },
    {
      "cell_type": "code",
      "source": [
        ""
      ],
      "metadata": {
        "id": "AhzWvc4czaJ0"
      },
      "execution_count": null,
      "outputs": []
    }
  ]
}